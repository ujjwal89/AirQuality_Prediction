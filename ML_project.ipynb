{
 "cells": [
  {
   "cell_type": "markdown",
   "id": "6eda7941",
   "metadata": {},
   "source": [
    "#                                           Air Quality Prediction"
   ]
  },
  {
   "cell_type": "markdown",
   "id": "ca64eb5d",
   "metadata": {},
   "source": [
    "## Group 4\n",
    "#### Anurag Jayant Shimpi\n",
    "#### Pratham Maheshwari\n",
    "#### Dipanshu\n",
    "#### KUMAR ARYAN\n",
    "#### Ujjwal Agrawal\n",
    "#### Ayush Jha"
   ]
  },
  {
   "cell_type": "markdown",
   "id": "af243e15",
   "metadata": {},
   "source": [
    "### Importing libraries"
   ]
  },
  {
   "cell_type": "code",
   "execution_count": 1,
   "id": "969adf1d",
   "metadata": {},
   "outputs": [],
   "source": [
    "import pandas as pd\n",
    "import numpy as np\n",
    "import seaborn as sns\n",
    "import matplotlib.pyplot as plt"
   ]
  },
  {
   "cell_type": "code",
   "execution_count": 2,
   "id": "c2743dc7",
   "metadata": {},
   "outputs": [
    {
     "data": {
      "text/html": [
       "<div>\n",
       "<style scoped>\n",
       "    .dataframe tbody tr th:only-of-type {\n",
       "        vertical-align: middle;\n",
       "    }\n",
       "\n",
       "    .dataframe tbody tr th {\n",
       "        vertical-align: top;\n",
       "    }\n",
       "\n",
       "    .dataframe thead th {\n",
       "        text-align: right;\n",
       "    }\n",
       "</style>\n",
       "<table border=\"1\" class=\"dataframe\">\n",
       "  <thead>\n",
       "    <tr style=\"text-align: right;\">\n",
       "      <th></th>\n",
       "      <th>WHO_Region</th>\n",
       "      <th>ISO3</th>\n",
       "      <th>Country_Name</th>\n",
       "      <th>City</th>\n",
       "      <th>Measurement_Year</th>\n",
       "      <th>PM2.5</th>\n",
       "      <th>PM10</th>\n",
       "      <th>NO2</th>\n",
       "      <th>PM25 temporal coverage (%)</th>\n",
       "      <th>PM10 temporal coverage (%)</th>\n",
       "      <th>NO2 temporal coverage (%)</th>\n",
       "      <th>Reference</th>\n",
       "      <th>Number and type of monitoring stations</th>\n",
       "      <th>Version of the database</th>\n",
       "      <th>Status</th>\n",
       "    </tr>\n",
       "  </thead>\n",
       "  <tbody>\n",
       "    <tr>\n",
       "      <th>0</th>\n",
       "      <td>Eastern Mediterranean Region</td>\n",
       "      <td>AFG</td>\n",
       "      <td>Afghanistan</td>\n",
       "      <td>Kabul</td>\n",
       "      <td>2019</td>\n",
       "      <td>119.77</td>\n",
       "      <td>NaN</td>\n",
       "      <td>NaN</td>\n",
       "      <td>18.0</td>\n",
       "      <td>NaN</td>\n",
       "      <td>NaN</td>\n",
       "      <td>U.S. Department of State, United States Enviro...</td>\n",
       "      <td>NaN</td>\n",
       "      <td>2022</td>\n",
       "      <td>NaN</td>\n",
       "    </tr>\n",
       "    <tr>\n",
       "      <th>1</th>\n",
       "      <td>European Region</td>\n",
       "      <td>ALB</td>\n",
       "      <td>Albania</td>\n",
       "      <td>Durres</td>\n",
       "      <td>2015</td>\n",
       "      <td>NaN</td>\n",
       "      <td>17.65</td>\n",
       "      <td>26.63</td>\n",
       "      <td>NaN</td>\n",
       "      <td>NaN</td>\n",
       "      <td>83.961187</td>\n",
       "      <td>European Environment Agency (downloaded in 2021)</td>\n",
       "      <td>NaN</td>\n",
       "      <td>2022</td>\n",
       "      <td>NaN</td>\n",
       "    </tr>\n",
       "    <tr>\n",
       "      <th>2</th>\n",
       "      <td>European Region</td>\n",
       "      <td>ALB</td>\n",
       "      <td>Albania</td>\n",
       "      <td>Durres</td>\n",
       "      <td>2016</td>\n",
       "      <td>14.32</td>\n",
       "      <td>24.56</td>\n",
       "      <td>24.78</td>\n",
       "      <td>NaN</td>\n",
       "      <td>NaN</td>\n",
       "      <td>87.932605</td>\n",
       "      <td>European Environment Agency (downloaded in 2021)</td>\n",
       "      <td>NaN</td>\n",
       "      <td>2022</td>\n",
       "      <td>NaN</td>\n",
       "    </tr>\n",
       "    <tr>\n",
       "      <th>3</th>\n",
       "      <td>European Region</td>\n",
       "      <td>ALB</td>\n",
       "      <td>Albania</td>\n",
       "      <td>Elbasan</td>\n",
       "      <td>2015</td>\n",
       "      <td>NaN</td>\n",
       "      <td>NaN</td>\n",
       "      <td>23.96</td>\n",
       "      <td>NaN</td>\n",
       "      <td>NaN</td>\n",
       "      <td>97.853881</td>\n",
       "      <td>European Environment Agency (downloaded in 2021)</td>\n",
       "      <td>NaN</td>\n",
       "      <td>2022</td>\n",
       "      <td>NaN</td>\n",
       "    </tr>\n",
       "    <tr>\n",
       "      <th>4</th>\n",
       "      <td>European Region</td>\n",
       "      <td>ALB</td>\n",
       "      <td>Albania</td>\n",
       "      <td>Elbasan</td>\n",
       "      <td>2016</td>\n",
       "      <td>NaN</td>\n",
       "      <td>NaN</td>\n",
       "      <td>26.26</td>\n",
       "      <td>NaN</td>\n",
       "      <td>NaN</td>\n",
       "      <td>96.049636</td>\n",
       "      <td>European Environment Agency (downloaded in 2021)</td>\n",
       "      <td>NaN</td>\n",
       "      <td>2022</td>\n",
       "      <td>NaN</td>\n",
       "    </tr>\n",
       "    <tr>\n",
       "      <th>...</th>\n",
       "      <td>...</td>\n",
       "      <td>...</td>\n",
       "      <td>...</td>\n",
       "      <td>...</td>\n",
       "      <td>...</td>\n",
       "      <td>...</td>\n",
       "      <td>...</td>\n",
       "      <td>...</td>\n",
       "      <td>...</td>\n",
       "      <td>...</td>\n",
       "      <td>...</td>\n",
       "      <td>...</td>\n",
       "      <td>...</td>\n",
       "      <td>...</td>\n",
       "      <td>...</td>\n",
       "    </tr>\n",
       "    <tr>\n",
       "      <th>32186</th>\n",
       "      <td>African Region</td>\n",
       "      <td>ZAF</td>\n",
       "      <td>South Africa</td>\n",
       "      <td>West Coast</td>\n",
       "      <td>2015</td>\n",
       "      <td>7.47</td>\n",
       "      <td>24.64</td>\n",
       "      <td>7.64</td>\n",
       "      <td>75.0</td>\n",
       "      <td>75.0</td>\n",
       "      <td>75.000000</td>\n",
       "      <td>South African Air Quality Information System</td>\n",
       "      <td>3 Residential-Medium/Upper income</td>\n",
       "      <td>2022</td>\n",
       "      <td>NaN</td>\n",
       "    </tr>\n",
       "    <tr>\n",
       "      <th>32187</th>\n",
       "      <td>African Region</td>\n",
       "      <td>ZAF</td>\n",
       "      <td>South Africa</td>\n",
       "      <td>West Coast</td>\n",
       "      <td>2016</td>\n",
       "      <td>8.42</td>\n",
       "      <td>33.28</td>\n",
       "      <td>7.27</td>\n",
       "      <td>75.0</td>\n",
       "      <td>75.0</td>\n",
       "      <td>75.000000</td>\n",
       "      <td>South African Air Quality Information System</td>\n",
       "      <td>2 Residential-Medium/Upper income</td>\n",
       "      <td>2022</td>\n",
       "      <td>NaN</td>\n",
       "    </tr>\n",
       "    <tr>\n",
       "      <th>32188</th>\n",
       "      <td>African Region</td>\n",
       "      <td>ZAF</td>\n",
       "      <td>South Africa</td>\n",
       "      <td>West Coast</td>\n",
       "      <td>2017</td>\n",
       "      <td>6.83</td>\n",
       "      <td>20.49</td>\n",
       "      <td>8.72</td>\n",
       "      <td>75.0</td>\n",
       "      <td>75.0</td>\n",
       "      <td>75.000000</td>\n",
       "      <td>South African Air Quality Information System</td>\n",
       "      <td>2 Residential-Medium/Upper income</td>\n",
       "      <td>2022</td>\n",
       "      <td>NaN</td>\n",
       "    </tr>\n",
       "    <tr>\n",
       "      <th>32189</th>\n",
       "      <td>African Region</td>\n",
       "      <td>ZAF</td>\n",
       "      <td>South Africa</td>\n",
       "      <td>West Coast</td>\n",
       "      <td>2018</td>\n",
       "      <td>6.10</td>\n",
       "      <td>17.99</td>\n",
       "      <td>7.15</td>\n",
       "      <td>75.0</td>\n",
       "      <td>75.0</td>\n",
       "      <td>75.000000</td>\n",
       "      <td>South African Air Quality Information System</td>\n",
       "      <td>2 Residential-Medium/Upper income</td>\n",
       "      <td>2022</td>\n",
       "      <td>NaN</td>\n",
       "    </tr>\n",
       "    <tr>\n",
       "      <th>32190</th>\n",
       "      <td>African Region</td>\n",
       "      <td>ZAF</td>\n",
       "      <td>South Africa</td>\n",
       "      <td>West Rand</td>\n",
       "      <td>2016</td>\n",
       "      <td>NaN</td>\n",
       "      <td>NaN</td>\n",
       "      <td>17.85</td>\n",
       "      <td>NaN</td>\n",
       "      <td>NaN</td>\n",
       "      <td>75.000000</td>\n",
       "      <td>South African Air Quality Information System</td>\n",
       "      <td>1 N/A</td>\n",
       "      <td>2022</td>\n",
       "      <td>NaN</td>\n",
       "    </tr>\n",
       "  </tbody>\n",
       "</table>\n",
       "<p>32191 rows × 15 columns</p>\n",
       "</div>"
      ],
      "text/plain": [
       "                         WHO_Region ISO3  Country_Name        City  \\\n",
       "0      Eastern Mediterranean Region  AFG   Afghanistan       Kabul   \n",
       "1                   European Region  ALB       Albania      Durres   \n",
       "2                   European Region  ALB       Albania      Durres   \n",
       "3                   European Region  ALB       Albania     Elbasan   \n",
       "4                   European Region  ALB       Albania     Elbasan   \n",
       "...                             ...  ...           ...         ...   \n",
       "32186                African Region  ZAF  South Africa  West Coast   \n",
       "32187                African Region  ZAF  South Africa  West Coast   \n",
       "32188                African Region  ZAF  South Africa  West Coast   \n",
       "32189                African Region  ZAF  South Africa  West Coast   \n",
       "32190                African Region  ZAF  South Africa   West Rand   \n",
       "\n",
       "       Measurement_Year   PM2.5  PM10     NO2  PM25 temporal coverage (%)  \\\n",
       "0                  2019  119.77    NaN    NaN                        18.0   \n",
       "1                  2015     NaN  17.65  26.63                         NaN   \n",
       "2                  2016   14.32  24.56  24.78                         NaN   \n",
       "3                  2015     NaN    NaN  23.96                         NaN   \n",
       "4                  2016     NaN    NaN  26.26                         NaN   \n",
       "...                 ...     ...    ...    ...                         ...   \n",
       "32186              2015    7.47  24.64   7.64                        75.0   \n",
       "32187              2016    8.42  33.28   7.27                        75.0   \n",
       "32188              2017    6.83  20.49   8.72                        75.0   \n",
       "32189              2018    6.10  17.99   7.15                        75.0   \n",
       "32190              2016     NaN    NaN  17.85                         NaN   \n",
       "\n",
       "       PM10 temporal coverage (%)  NO2 temporal coverage (%)  \\\n",
       "0                             NaN                        NaN   \n",
       "1                             NaN                  83.961187   \n",
       "2                             NaN                  87.932605   \n",
       "3                             NaN                  97.853881   \n",
       "4                             NaN                  96.049636   \n",
       "...                           ...                        ...   \n",
       "32186                        75.0                  75.000000   \n",
       "32187                        75.0                  75.000000   \n",
       "32188                        75.0                  75.000000   \n",
       "32189                        75.0                  75.000000   \n",
       "32190                         NaN                  75.000000   \n",
       "\n",
       "                                               Reference  \\\n",
       "0      U.S. Department of State, United States Enviro...   \n",
       "1       European Environment Agency (downloaded in 2021)   \n",
       "2       European Environment Agency (downloaded in 2021)   \n",
       "3       European Environment Agency (downloaded in 2021)   \n",
       "4       European Environment Agency (downloaded in 2021)   \n",
       "...                                                  ...   \n",
       "32186       South African Air Quality Information System   \n",
       "32187       South African Air Quality Information System   \n",
       "32188       South African Air Quality Information System   \n",
       "32189       South African Air Quality Information System   \n",
       "32190       South African Air Quality Information System   \n",
       "\n",
       "      Number and type of monitoring stations  Version of the database  Status  \n",
       "0                                        NaN                     2022     NaN  \n",
       "1                                        NaN                     2022     NaN  \n",
       "2                                        NaN                     2022     NaN  \n",
       "3                                        NaN                     2022     NaN  \n",
       "4                                        NaN                     2022     NaN  \n",
       "...                                      ...                      ...     ...  \n",
       "32186      3 Residential-Medium/Upper income                     2022     NaN  \n",
       "32187      2 Residential-Medium/Upper income                     2022     NaN  \n",
       "32188      2 Residential-Medium/Upper income                     2022     NaN  \n",
       "32189      2 Residential-Medium/Upper income                     2022     NaN  \n",
       "32190                                  1 N/A                     2022     NaN  \n",
       "\n",
       "[32191 rows x 15 columns]"
      ]
     },
     "execution_count": 2,
     "metadata": {},
     "output_type": "execute_result"
    }
   ],
   "source": [
    "df = pd.read_excel('WHO_air_data1.xlsx')\n",
    "df"
   ]
  },
  {
   "cell_type": "markdown",
   "id": "e925144c",
   "metadata": {},
   "source": [
    "# EDA"
   ]
  },
  {
   "cell_type": "code",
   "execution_count": 3,
   "id": "cd005bac",
   "metadata": {},
   "outputs": [
    {
     "name": "stdout",
     "output_type": "stream",
     "text": [
      "<class 'pandas.core.frame.DataFrame'>\n",
      "RangeIndex: 32191 entries, 0 to 32190\n",
      "Data columns (total 15 columns):\n",
      " #   Column                                  Non-Null Count  Dtype  \n",
      "---  ------                                  --------------  -----  \n",
      " 0   WHO_Region                              32190 non-null  object \n",
      " 1   ISO3                                    32191 non-null  object \n",
      " 2   Country_Name                            32191 non-null  object \n",
      " 3   City                                    32191 non-null  object \n",
      " 4   Measurement_Year                        32191 non-null  int64  \n",
      " 5   PM2.5                                   15048 non-null  float64\n",
      " 6   PM10                                    21109 non-null  float64\n",
      " 7   NO2                                     22200 non-null  float64\n",
      " 8   PM25 temporal coverage (%)              7275 non-null   float64\n",
      " 9   PM10 temporal coverage (%)              5381 non-null   float64\n",
      " 10  NO2 temporal coverage (%)               19890 non-null  float64\n",
      " 11  Reference                               32186 non-null  object \n",
      " 12  Number and type of monitoring stations  8758 non-null   object \n",
      " 13  Version of the database                 32191 non-null  int64  \n",
      " 14  Status                                  0 non-null      float64\n",
      "dtypes: float64(7), int64(2), object(6)\n",
      "memory usage: 3.7+ MB\n"
     ]
    }
   ],
   "source": [
    "df.info()"
   ]
  },
  {
   "cell_type": "code",
   "execution_count": 4,
   "id": "71dfea5b",
   "metadata": {},
   "outputs": [
    {
     "data": {
      "text/plain": [
       "WHO_Region                                    1\n",
       "ISO3                                          0\n",
       "Country_Name                                  0\n",
       "City                                          0\n",
       "Measurement_Year                              0\n",
       "PM2.5                                     17143\n",
       "PM10                                      11082\n",
       "NO2                                        9991\n",
       "PM25 temporal coverage (%)                24916\n",
       "PM10 temporal coverage (%)                26810\n",
       "NO2 temporal coverage (%)                 12301\n",
       "Reference                                     5\n",
       "Number and type of monitoring stations    23433\n",
       "Version of the database                       0\n",
       "Status                                    32191\n",
       "dtype: int64"
      ]
     },
     "execution_count": 4,
     "metadata": {},
     "output_type": "execute_result"
    }
   ],
   "source": [
    "nullvalues = df.isnull().sum()\n",
    "nullvalues"
   ]
  },
  {
   "cell_type": "code",
   "execution_count": 5,
   "id": "d1fbcb49",
   "metadata": {},
   "outputs": [
    {
     "data": {
      "text/html": [
       "<div>\n",
       "<style scoped>\n",
       "    .dataframe tbody tr th:only-of-type {\n",
       "        vertical-align: middle;\n",
       "    }\n",
       "\n",
       "    .dataframe tbody tr th {\n",
       "        vertical-align: top;\n",
       "    }\n",
       "\n",
       "    .dataframe thead th {\n",
       "        text-align: right;\n",
       "    }\n",
       "</style>\n",
       "<table border=\"1\" class=\"dataframe\">\n",
       "  <thead>\n",
       "    <tr style=\"text-align: right;\">\n",
       "      <th></th>\n",
       "      <th>Measurement_Year</th>\n",
       "      <th>PM2.5</th>\n",
       "      <th>PM10</th>\n",
       "      <th>NO2</th>\n",
       "      <th>PM25 temporal coverage (%)</th>\n",
       "      <th>PM10 temporal coverage (%)</th>\n",
       "      <th>NO2 temporal coverage (%)</th>\n",
       "      <th>Version of the database</th>\n",
       "      <th>Status</th>\n",
       "    </tr>\n",
       "  </thead>\n",
       "  <tbody>\n",
       "    <tr>\n",
       "      <th>count</th>\n",
       "      <td>32191.000000</td>\n",
       "      <td>15048.000000</td>\n",
       "      <td>21109.000000</td>\n",
       "      <td>22200.000000</td>\n",
       "      <td>7275.000000</td>\n",
       "      <td>5381.000000</td>\n",
       "      <td>19890.000000</td>\n",
       "      <td>32191.000000</td>\n",
       "      <td>0.0</td>\n",
       "    </tr>\n",
       "    <tr>\n",
       "      <th>mean</th>\n",
       "      <td>2015.579354</td>\n",
       "      <td>22.920320</td>\n",
       "      <td>30.533252</td>\n",
       "      <td>20.619336</td>\n",
       "      <td>90.794096</td>\n",
       "      <td>90.583500</td>\n",
       "      <td>93.696804</td>\n",
       "      <td>2021.744214</td>\n",
       "      <td>NaN</td>\n",
       "    </tr>\n",
       "    <tr>\n",
       "      <th>std</th>\n",
       "      <td>2.752654</td>\n",
       "      <td>17.925906</td>\n",
       "      <td>29.312756</td>\n",
       "      <td>12.133388</td>\n",
       "      <td>14.872681</td>\n",
       "      <td>13.816311</td>\n",
       "      <td>10.451751</td>\n",
       "      <td>1.051897</td>\n",
       "      <td>NaN</td>\n",
       "    </tr>\n",
       "    <tr>\n",
       "      <th>min</th>\n",
       "      <td>2000.000000</td>\n",
       "      <td>0.010000</td>\n",
       "      <td>1.040000</td>\n",
       "      <td>0.000000</td>\n",
       "      <td>0.000000</td>\n",
       "      <td>2.568493</td>\n",
       "      <td>1.923077</td>\n",
       "      <td>2016.000000</td>\n",
       "      <td>NaN</td>\n",
       "    </tr>\n",
       "    <tr>\n",
       "      <th>25%</th>\n",
       "      <td>2014.000000</td>\n",
       "      <td>10.350000</td>\n",
       "      <td>16.980000</td>\n",
       "      <td>12.000000</td>\n",
       "      <td>88.595890</td>\n",
       "      <td>87.945205</td>\n",
       "      <td>93.207763</td>\n",
       "      <td>2022.000000</td>\n",
       "      <td>NaN</td>\n",
       "    </tr>\n",
       "    <tr>\n",
       "      <th>50%</th>\n",
       "      <td>2016.000000</td>\n",
       "      <td>16.000000</td>\n",
       "      <td>22.000000</td>\n",
       "      <td>18.800000</td>\n",
       "      <td>97.000000</td>\n",
       "      <td>96.039000</td>\n",
       "      <td>96.369863</td>\n",
       "      <td>2022.000000</td>\n",
       "      <td>NaN</td>\n",
       "    </tr>\n",
       "    <tr>\n",
       "      <th>75%</th>\n",
       "      <td>2018.000000</td>\n",
       "      <td>31.000000</td>\n",
       "      <td>31.300000</td>\n",
       "      <td>27.160000</td>\n",
       "      <td>99.000000</td>\n",
       "      <td>98.938000</td>\n",
       "      <td>98.926941</td>\n",
       "      <td>2022.000000</td>\n",
       "      <td>NaN</td>\n",
       "    </tr>\n",
       "    <tr>\n",
       "      <th>max</th>\n",
       "      <td>2021.000000</td>\n",
       "      <td>191.900000</td>\n",
       "      <td>540.000000</td>\n",
       "      <td>210.680000</td>\n",
       "      <td>100.000000</td>\n",
       "      <td>100.000000</td>\n",
       "      <td>100.000000</td>\n",
       "      <td>2022.000000</td>\n",
       "      <td>NaN</td>\n",
       "    </tr>\n",
       "  </tbody>\n",
       "</table>\n",
       "</div>"
      ],
      "text/plain": [
       "       Measurement_Year         PM2.5         PM10            NO2  \\\n",
       "count      32191.000000  15048.000000  21109.000000  22200.000000   \n",
       "mean        2015.579354     22.920320     30.533252     20.619336   \n",
       "std            2.752654     17.925906     29.312756     12.133388   \n",
       "min         2000.000000      0.010000      1.040000      0.000000   \n",
       "25%         2014.000000     10.350000     16.980000     12.000000   \n",
       "50%         2016.000000     16.000000     22.000000     18.800000   \n",
       "75%         2018.000000     31.000000     31.300000     27.160000   \n",
       "max         2021.000000    191.900000    540.000000    210.680000   \n",
       "\n",
       "       PM25 temporal coverage (%)  PM10 temporal coverage (%)  \\\n",
       "count                 7275.000000                 5381.000000   \n",
       "mean                    90.794096                   90.583500   \n",
       "std                     14.872681                   13.816311   \n",
       "min                      0.000000                    2.568493   \n",
       "25%                     88.595890                   87.945205   \n",
       "50%                     97.000000                   96.039000   \n",
       "75%                     99.000000                   98.938000   \n",
       "max                    100.000000                  100.000000   \n",
       "\n",
       "       NO2 temporal coverage (%)  Version of the database  Status  \n",
       "count               19890.000000             32191.000000     0.0  \n",
       "mean                   93.696804              2021.744214     NaN  \n",
       "std                    10.451751                 1.051897     NaN  \n",
       "min                     1.923077              2016.000000     NaN  \n",
       "25%                    93.207763              2022.000000     NaN  \n",
       "50%                    96.369863              2022.000000     NaN  \n",
       "75%                    98.926941              2022.000000     NaN  \n",
       "max                   100.000000              2022.000000     NaN  "
      ]
     },
     "execution_count": 5,
     "metadata": {},
     "output_type": "execute_result"
    }
   ],
   "source": [
    "df.describe()"
   ]
  },
  {
   "cell_type": "code",
   "execution_count": 6,
   "id": "83fbfaf7",
   "metadata": {
    "scrolled": true
   },
   "outputs": [
    {
     "data": {
      "text/plain": [
       "WHO_Region                                   6\n",
       "ISO3                                       118\n",
       "Country_Name                               118\n",
       "City                                      6874\n",
       "Measurement_Year                            21\n",
       "PM2.5                                     4749\n",
       "PM10                                      5081\n",
       "NO2                                       4633\n",
       "PM25 temporal coverage (%)                2307\n",
       "PM10 temporal coverage (%)                2084\n",
       "NO2 temporal coverage (%)                 6496\n",
       "Reference                                  251\n",
       "Number and type of monitoring stations     634\n",
       "Version of the database                      3\n",
       "Status                                       0\n",
       "dtype: int64"
      ]
     },
     "execution_count": 6,
     "metadata": {},
     "output_type": "execute_result"
    }
   ],
   "source": [
    "df.nunique()"
   ]
  },
  {
   "cell_type": "code",
   "execution_count": 7,
   "id": "8721fa78",
   "metadata": {},
   "outputs": [
    {
     "data": {
      "text/plain": [
       "European Region                 20292\n",
       "Western Pacific Region           4798\n",
       "Region of the Americas           3957\n",
       "South East Asia Region           2514\n",
       "Eastern Mediterranean Region      438\n",
       "African Region                    191\n",
       "Name: WHO_Region, dtype: int64"
      ]
     },
     "execution_count": 7,
     "metadata": {},
     "output_type": "execute_result"
    }
   ],
   "source": [
    "df['WHO_Region'].value_counts()"
   ]
  },
  {
   "cell_type": "code",
   "execution_count": 8,
   "id": "8a3a985f",
   "metadata": {},
   "outputs": [
    {
     "data": {
      "text/plain": [
       "<AxesSubplot:xlabel='WHO_Region', ylabel='count'>"
      ]
     },
     "execution_count": 8,
     "metadata": {},
     "output_type": "execute_result"
    },
    {
     "data": {
      "image/png": "[encoded data removed]",
      "text/plain": [
       "<Figure size 720x360 with 1 Axes>"
      ]
     },
     "metadata": {
      "needs_background": "light"
     },
     "output_type": "display_data"
    }
   ],
   "source": [
    "plt.figure(figsize=(10, 5))\n",
    "sns.countplot(x='WHO_Region', data=df)"
   ]
  },
  {
   "cell_type": "code",
   "execution_count": 9,
   "id": "770df39c",
   "metadata": {},
   "outputs": [
    {
     "data": {
      "text/plain": [
       "China                               3967\n",
       "Italy                               3129\n",
       "Germany                             2601\n",
       "Spain                               2497\n",
       "India                               2265\n",
       "                                    ... \n",
       "Nigeria                                1\n",
       "Kyrgyzstan                             1\n",
       "Maldives                               1\n",
       "Lao People's Democratic Republic       1\n",
       "Afghanistan                            1\n",
       "Name: Country_Name, Length: 118, dtype: int64"
      ]
     },
     "execution_count": 9,
     "metadata": {},
     "output_type": "execute_result"
    }
   ],
   "source": [
    "df['Country_Name'].value_counts()"
   ]
  },
  {
   "cell_type": "code",
   "execution_count": 10,
   "id": "a86d8c7d",
   "metadata": {},
   "outputs": [
    {
     "data": {
      "text/plain": [
       "[]"
      ]
     },
     "execution_count": 10,
     "metadata": {},
     "output_type": "execute_result"
    },
    {
     "data": {
      "image/png": "[encoded data removed]",
      "text/plain": [
       "<Figure size 1800x360 with 1 Axes>"
      ]
     },
     "metadata": {
      "needs_background": "light"
     },
     "output_type": "display_data"
    }
   ],
   "source": [
    "plt.figure(figsize=(25, 5))\n",
    "sns.countplot(x='Country_Name', data=df)\n",
    "plt.xticks(rotation=90)\n",
    "plt.plot()\n",
    "# China has appeared most number of times in the data followed by Italy, Germany, Spain, India, France, USA and Poland."
   ]
  },
  {
   "cell_type": "code",
   "execution_count": 11,
   "id": "58e0cb08",
   "metadata": {},
   "outputs": [
    {
     "data": {
      "image/png": "[encoded data removed]",
      "text/plain": [
       "<Figure size 720x360 with 1 Axes>"
      ]
     },
     "metadata": {
      "needs_background": "light"
     },
     "output_type": "display_data"
    }
   ],
   "source": [
    "plt.figure(figsize=(10, 5))\n",
    "plt.xticks(rotation=90)\n",
    "sns.boxplot(x='WHO_Region',y='PM2.5',data=df);\n",
    "# South East Asia Region has higher pm2_5 level compared to other Regions"
   ]
  },
  {
   "cell_type": "markdown",
   "id": "a0173ca0",
   "metadata": {},
   "source": [
    "### Handlling missing or null values"
   ]
  },
  {
   "cell_type": "code",
   "execution_count": 12,
   "id": "0709f8ca",
   "metadata": {},
   "outputs": [],
   "source": [
    "#Counting the percentage of null values.\n",
    "null_values_percentage = (df.isnull().sum()/df.isnull().count()*100).sort_values(ascending=False)"
   ]
  },
  {
   "cell_type": "code",
   "execution_count": 13,
   "id": "27ddd28d",
   "metadata": {},
   "outputs": [
    {
     "data": {
      "text/html": [
       "<div>\n",
       "<style scoped>\n",
       "    .dataframe tbody tr th:only-of-type {\n",
       "        vertical-align: middle;\n",
       "    }\n",
       "\n",
       "    .dataframe tbody tr th {\n",
       "        vertical-align: top;\n",
       "    }\n",
       "\n",
       "    .dataframe thead th {\n",
       "        text-align: right;\n",
       "    }\n",
       "</style>\n",
       "<table border=\"1\" class=\"dataframe\">\n",
       "  <thead>\n",
       "    <tr style=\"text-align: right;\">\n",
       "      <th></th>\n",
       "      <th>Total</th>\n",
       "      <th>Percent</th>\n",
       "    </tr>\n",
       "  </thead>\n",
       "  <tbody>\n",
       "    <tr>\n",
       "      <th>WHO_Region</th>\n",
       "      <td>1</td>\n",
       "      <td>0.003106</td>\n",
       "    </tr>\n",
       "    <tr>\n",
       "      <th>ISO3</th>\n",
       "      <td>0</td>\n",
       "      <td>0.000000</td>\n",
       "    </tr>\n",
       "    <tr>\n",
       "      <th>Country_Name</th>\n",
       "      <td>0</td>\n",
       "      <td>0.000000</td>\n",
       "    </tr>\n",
       "    <tr>\n",
       "      <th>City</th>\n",
       "      <td>0</td>\n",
       "      <td>0.000000</td>\n",
       "    </tr>\n",
       "    <tr>\n",
       "      <th>Measurement_Year</th>\n",
       "      <td>0</td>\n",
       "      <td>0.000000</td>\n",
       "    </tr>\n",
       "    <tr>\n",
       "      <th>PM2.5</th>\n",
       "      <td>17143</td>\n",
       "      <td>53.254015</td>\n",
       "    </tr>\n",
       "    <tr>\n",
       "      <th>PM10</th>\n",
       "      <td>11082</td>\n",
       "      <td>34.425771</td>\n",
       "    </tr>\n",
       "    <tr>\n",
       "      <th>NO2</th>\n",
       "      <td>9991</td>\n",
       "      <td>31.036625</td>\n",
       "    </tr>\n",
       "    <tr>\n",
       "      <th>PM25 temporal coverage (%)</th>\n",
       "      <td>24916</td>\n",
       "      <td>77.400516</td>\n",
       "    </tr>\n",
       "    <tr>\n",
       "      <th>PM10 temporal coverage (%)</th>\n",
       "      <td>26810</td>\n",
       "      <td>83.284148</td>\n",
       "    </tr>\n",
       "    <tr>\n",
       "      <th>NO2 temporal coverage (%)</th>\n",
       "      <td>12301</td>\n",
       "      <td>38.212544</td>\n",
       "    </tr>\n",
       "    <tr>\n",
       "      <th>Reference</th>\n",
       "      <td>5</td>\n",
       "      <td>0.015532</td>\n",
       "    </tr>\n",
       "    <tr>\n",
       "      <th>Number and type of monitoring stations</th>\n",
       "      <td>23433</td>\n",
       "      <td>72.793638</td>\n",
       "    </tr>\n",
       "    <tr>\n",
       "      <th>Version of the database</th>\n",
       "      <td>0</td>\n",
       "      <td>0.000000</td>\n",
       "    </tr>\n",
       "    <tr>\n",
       "      <th>Status</th>\n",
       "      <td>32191</td>\n",
       "      <td>100.000000</td>\n",
       "    </tr>\n",
       "  </tbody>\n",
       "</table>\n",
       "</div>"
      ],
      "text/plain": [
       "                                        Total     Percent\n",
       "WHO_Region                                  1    0.003106\n",
       "ISO3                                        0    0.000000\n",
       "Country_Name                                0    0.000000\n",
       "City                                        0    0.000000\n",
       "Measurement_Year                            0    0.000000\n",
       "PM2.5                                   17143   53.254015\n",
       "PM10                                    11082   34.425771\n",
       "NO2                                      9991   31.036625\n",
       "PM25 temporal coverage (%)              24916   77.400516\n",
       "PM10 temporal coverage (%)              26810   83.284148\n",
       "NO2 temporal coverage (%)               12301   38.212544\n",
       "Reference                                   5    0.015532\n",
       "Number and type of monitoring stations  23433   72.793638\n",
       "Version of the database                     0    0.000000\n",
       "Status                                  32191  100.000000"
      ]
     },
     "execution_count": 13,
     "metadata": {},
     "output_type": "execute_result"
    }
   ],
   "source": [
    "missing_data_with_percentage = pd.concat([nullvalues, null_values_percentage], axis=1, keys=['Total', 'Percent'])\n",
    "missing_data_with_percentage\n",
    "# As you can see below these are the percentages of null values present in the dataset"
   ]
  },
  {
   "cell_type": "code",
   "execution_count": 14,
   "id": "5beed09c",
   "metadata": {},
   "outputs": [
    {
     "data": {
      "text/plain": [
       "WHO_Region                                    1\n",
       "ISO3                                          0\n",
       "Country_Name                                  0\n",
       "City                                          0\n",
       "Measurement_Year                              0\n",
       "PM2.5                                     17143\n",
       "PM10                                      11082\n",
       "NO2                                        9991\n",
       "PM25 temporal coverage (%)                24916\n",
       "PM10 temporal coverage (%)                26810\n",
       "NO2 temporal coverage (%)                 12301\n",
       "Reference                                     5\n",
       "Number and type of monitoring stations    23433\n",
       "Version of the database                       0\n",
       "Status                                    32191\n",
       "dtype: int64"
      ]
     },
     "execution_count": 14,
     "metadata": {},
     "output_type": "execute_result"
    }
   ],
   "source": [
    "# Remaining columns with null values\n",
    "df.isnull().sum()"
   ]
  },
  {
   "cell_type": "code",
   "execution_count": 15,
   "id": "c1e735c7",
   "metadata": {},
   "outputs": [
    {
     "data": {
      "text/html": [
       "<div>\n",
       "<style scoped>\n",
       "    .dataframe tbody tr th:only-of-type {\n",
       "        vertical-align: middle;\n",
       "    }\n",
       "\n",
       "    .dataframe tbody tr th {\n",
       "        vertical-align: top;\n",
       "    }\n",
       "\n",
       "    .dataframe thead th {\n",
       "        text-align: right;\n",
       "    }\n",
       "</style>\n",
       "<table border=\"1\" class=\"dataframe\">\n",
       "  <thead>\n",
       "    <tr style=\"text-align: right;\">\n",
       "      <th></th>\n",
       "      <th>WHO_Region</th>\n",
       "      <th>ISO3</th>\n",
       "      <th>Country_Name</th>\n",
       "      <th>City</th>\n",
       "      <th>Measurement_Year</th>\n",
       "      <th>PM2.5</th>\n",
       "      <th>PM10</th>\n",
       "      <th>NO2</th>\n",
       "      <th>PM25 temporal coverage (%)</th>\n",
       "      <th>PM10 temporal coverage (%)</th>\n",
       "      <th>NO2 temporal coverage (%)</th>\n",
       "      <th>Reference</th>\n",
       "      <th>Number and type of monitoring stations</th>\n",
       "      <th>Version of the database</th>\n",
       "      <th>Status</th>\n",
       "    </tr>\n",
       "  </thead>\n",
       "  <tbody>\n",
       "    <tr>\n",
       "      <th>0</th>\n",
       "      <td>Eastern Mediterranean Region</td>\n",
       "      <td>AFG</td>\n",
       "      <td>Afghanistan</td>\n",
       "      <td>Kabul</td>\n",
       "      <td>2019</td>\n",
       "      <td>119.77</td>\n",
       "      <td>NaN</td>\n",
       "      <td>NaN</td>\n",
       "      <td>18.0</td>\n",
       "      <td>NaN</td>\n",
       "      <td>NaN</td>\n",
       "      <td>U.S. Department of State, United States Enviro...</td>\n",
       "      <td>NaN</td>\n",
       "      <td>2022</td>\n",
       "      <td>NaN</td>\n",
       "    </tr>\n",
       "    <tr>\n",
       "      <th>1</th>\n",
       "      <td>European Region</td>\n",
       "      <td>ALB</td>\n",
       "      <td>Albania</td>\n",
       "      <td>Durres</td>\n",
       "      <td>2015</td>\n",
       "      <td>NaN</td>\n",
       "      <td>17.65</td>\n",
       "      <td>26.63</td>\n",
       "      <td>NaN</td>\n",
       "      <td>NaN</td>\n",
       "      <td>83.961187</td>\n",
       "      <td>European Environment Agency (downloaded in 2021)</td>\n",
       "      <td>NaN</td>\n",
       "      <td>2022</td>\n",
       "      <td>NaN</td>\n",
       "    </tr>\n",
       "    <tr>\n",
       "      <th>2</th>\n",
       "      <td>European Region</td>\n",
       "      <td>ALB</td>\n",
       "      <td>Albania</td>\n",
       "      <td>Durres</td>\n",
       "      <td>2016</td>\n",
       "      <td>14.32</td>\n",
       "      <td>24.56</td>\n",
       "      <td>24.78</td>\n",
       "      <td>NaN</td>\n",
       "      <td>NaN</td>\n",
       "      <td>87.932605</td>\n",
       "      <td>European Environment Agency (downloaded in 2021)</td>\n",
       "      <td>NaN</td>\n",
       "      <td>2022</td>\n",
       "      <td>NaN</td>\n",
       "    </tr>\n",
       "    <tr>\n",
       "      <th>3</th>\n",
       "      <td>European Region</td>\n",
       "      <td>ALB</td>\n",
       "      <td>Albania</td>\n",
       "      <td>Elbasan</td>\n",
       "      <td>2015</td>\n",
       "      <td>NaN</td>\n",
       "      <td>NaN</td>\n",
       "      <td>23.96</td>\n",
       "      <td>NaN</td>\n",
       "      <td>NaN</td>\n",
       "      <td>97.853881</td>\n",
       "      <td>European Environment Agency (downloaded in 2021)</td>\n",
       "      <td>NaN</td>\n",
       "      <td>2022</td>\n",
       "      <td>NaN</td>\n",
       "    </tr>\n",
       "    <tr>\n",
       "      <th>4</th>\n",
       "      <td>European Region</td>\n",
       "      <td>ALB</td>\n",
       "      <td>Albania</td>\n",
       "      <td>Elbasan</td>\n",
       "      <td>2016</td>\n",
       "      <td>NaN</td>\n",
       "      <td>NaN</td>\n",
       "      <td>26.26</td>\n",
       "      <td>NaN</td>\n",
       "      <td>NaN</td>\n",
       "      <td>96.049636</td>\n",
       "      <td>European Environment Agency (downloaded in 2021)</td>\n",
       "      <td>NaN</td>\n",
       "      <td>2022</td>\n",
       "      <td>NaN</td>\n",
       "    </tr>\n",
       "    <tr>\n",
       "      <th>...</th>\n",
       "      <td>...</td>\n",
       "      <td>...</td>\n",
       "      <td>...</td>\n",
       "      <td>...</td>\n",
       "      <td>...</td>\n",
       "      <td>...</td>\n",
       "      <td>...</td>\n",
       "      <td>...</td>\n",
       "      <td>...</td>\n",
       "      <td>...</td>\n",
       "      <td>...</td>\n",
       "      <td>...</td>\n",
       "      <td>...</td>\n",
       "      <td>...</td>\n",
       "      <td>...</td>\n",
       "    </tr>\n",
       "    <tr>\n",
       "      <th>32186</th>\n",
       "      <td>African Region</td>\n",
       "      <td>ZAF</td>\n",
       "      <td>South Africa</td>\n",
       "      <td>West Coast</td>\n",
       "      <td>2015</td>\n",
       "      <td>7.47</td>\n",
       "      <td>24.64</td>\n",
       "      <td>7.64</td>\n",
       "      <td>75.0</td>\n",
       "      <td>75.0</td>\n",
       "      <td>75.000000</td>\n",
       "      <td>South African Air Quality Information System</td>\n",
       "      <td>3 Residential-Medium/Upper income</td>\n",
       "      <td>2022</td>\n",
       "      <td>NaN</td>\n",
       "    </tr>\n",
       "    <tr>\n",
       "      <th>32187</th>\n",
       "      <td>African Region</td>\n",
       "      <td>ZAF</td>\n",
       "      <td>South Africa</td>\n",
       "      <td>West Coast</td>\n",
       "      <td>2016</td>\n",
       "      <td>8.42</td>\n",
       "      <td>33.28</td>\n",
       "      <td>7.27</td>\n",
       "      <td>75.0</td>\n",
       "      <td>75.0</td>\n",
       "      <td>75.000000</td>\n",
       "      <td>South African Air Quality Information System</td>\n",
       "      <td>2 Residential-Medium/Upper income</td>\n",
       "      <td>2022</td>\n",
       "      <td>NaN</td>\n",
       "    </tr>\n",
       "    <tr>\n",
       "      <th>32188</th>\n",
       "      <td>African Region</td>\n",
       "      <td>ZAF</td>\n",
       "      <td>South Africa</td>\n",
       "      <td>West Coast</td>\n",
       "      <td>2017</td>\n",
       "      <td>6.83</td>\n",
       "      <td>20.49</td>\n",
       "      <td>8.72</td>\n",
       "      <td>75.0</td>\n",
       "      <td>75.0</td>\n",
       "      <td>75.000000</td>\n",
       "      <td>South African Air Quality Information System</td>\n",
       "      <td>2 Residential-Medium/Upper income</td>\n",
       "      <td>2022</td>\n",
       "      <td>NaN</td>\n",
       "    </tr>\n",
       "    <tr>\n",
       "      <th>32189</th>\n",
       "      <td>African Region</td>\n",
       "      <td>ZAF</td>\n",
       "      <td>South Africa</td>\n",
       "      <td>West Coast</td>\n",
       "      <td>2018</td>\n",
       "      <td>6.10</td>\n",
       "      <td>17.99</td>\n",
       "      <td>7.15</td>\n",
       "      <td>75.0</td>\n",
       "      <td>75.0</td>\n",
       "      <td>75.000000</td>\n",
       "      <td>South African Air Quality Information System</td>\n",
       "      <td>2 Residential-Medium/Upper income</td>\n",
       "      <td>2022</td>\n",
       "      <td>NaN</td>\n",
       "    </tr>\n",
       "    <tr>\n",
       "      <th>32190</th>\n",
       "      <td>African Region</td>\n",
       "      <td>ZAF</td>\n",
       "      <td>South Africa</td>\n",
       "      <td>West Rand</td>\n",
       "      <td>2016</td>\n",
       "      <td>NaN</td>\n",
       "      <td>NaN</td>\n",
       "      <td>17.85</td>\n",
       "      <td>NaN</td>\n",
       "      <td>NaN</td>\n",
       "      <td>75.000000</td>\n",
       "      <td>South African Air Quality Information System</td>\n",
       "      <td>1 N/A</td>\n",
       "      <td>2022</td>\n",
       "      <td>NaN</td>\n",
       "    </tr>\n",
       "  </tbody>\n",
       "</table>\n",
       "<p>32191 rows × 15 columns</p>\n",
       "</div>"
      ],
      "text/plain": [
       "                         WHO_Region ISO3  Country_Name        City  \\\n",
       "0      Eastern Mediterranean Region  AFG   Afghanistan       Kabul   \n",
       "1                   European Region  ALB       Albania      Durres   \n",
       "2                   European Region  ALB       Albania      Durres   \n",
       "3                   European Region  ALB       Albania     Elbasan   \n",
       "4                   European Region  ALB       Albania     Elbasan   \n",
       "...                             ...  ...           ...         ...   \n",
       "32186                African Region  ZAF  South Africa  West Coast   \n",
       "32187                African Region  ZAF  South Africa  West Coast   \n",
       "32188                African Region  ZAF  South Africa  West Coast   \n",
       "32189                African Region  ZAF  South Africa  West Coast   \n",
       "32190                African Region  ZAF  South Africa   West Rand   \n",
       "\n",
       "       Measurement_Year   PM2.5  PM10     NO2  PM25 temporal coverage (%)  \\\n",
       "0                  2019  119.77    NaN    NaN                        18.0   \n",
       "1                  2015     NaN  17.65  26.63                         NaN   \n",
       "2                  2016   14.32  24.56  24.78                         NaN   \n",
       "3                  2015     NaN    NaN  23.96                         NaN   \n",
       "4                  2016     NaN    NaN  26.26                         NaN   \n",
       "...                 ...     ...    ...    ...                         ...   \n",
       "32186              2015    7.47  24.64   7.64                        75.0   \n",
       "32187              2016    8.42  33.28   7.27                        75.0   \n",
       "32188              2017    6.83  20.49   8.72                        75.0   \n",
       "32189              2018    6.10  17.99   7.15                        75.0   \n",
       "32190              2016     NaN    NaN  17.85                         NaN   \n",
       "\n",
       "       PM10 temporal coverage (%)  NO2 temporal coverage (%)  \\\n",
       "0                             NaN                        NaN   \n",
       "1                             NaN                  83.961187   \n",
       "2                             NaN                  87.932605   \n",
       "3                             NaN                  97.853881   \n",
       "4                             NaN                  96.049636   \n",
       "...                           ...                        ...   \n",
       "32186                        75.0                  75.000000   \n",
       "32187                        75.0                  75.000000   \n",
       "32188                        75.0                  75.000000   \n",
       "32189                        75.0                  75.000000   \n",
       "32190                         NaN                  75.000000   \n",
       "\n",
       "                                               Reference  \\\n",
       "0      U.S. Department of State, United States Enviro...   \n",
       "1       European Environment Agency (downloaded in 2021)   \n",
       "2       European Environment Agency (downloaded in 2021)   \n",
       "3       European Environment Agency (downloaded in 2021)   \n",
       "4       European Environment Agency (downloaded in 2021)   \n",
       "...                                                  ...   \n",
       "32186       South African Air Quality Information System   \n",
       "32187       South African Air Quality Information System   \n",
       "32188       South African Air Quality Information System   \n",
       "32189       South African Air Quality Information System   \n",
       "32190       South African Air Quality Information System   \n",
       "\n",
       "      Number and type of monitoring stations  Version of the database  Status  \n",
       "0                                        NaN                     2022     NaN  \n",
       "1                                        NaN                     2022     NaN  \n",
       "2                                        NaN                     2022     NaN  \n",
       "3                                        NaN                     2022     NaN  \n",
       "4                                        NaN                     2022     NaN  \n",
       "...                                      ...                      ...     ...  \n",
       "32186      3 Residential-Medium/Upper income                     2022     NaN  \n",
       "32187      2 Residential-Medium/Upper income                     2022     NaN  \n",
       "32188      2 Residential-Medium/Upper income                     2022     NaN  \n",
       "32189      2 Residential-Medium/Upper income                     2022     NaN  \n",
       "32190                                  1 N/A                     2022     NaN  \n",
       "\n",
       "[32191 rows x 15 columns]"
      ]
     },
     "execution_count": 15,
     "metadata": {},
     "output_type": "execute_result"
    }
   ],
   "source": [
    "df"
   ]
  },
  {
   "cell_type": "code",
   "execution_count": 16,
   "id": "dffd128b",
   "metadata": {},
   "outputs": [],
   "source": [
    "# Null value Imputation for categorical data\n",
    "df['WHO_Region']=df['WHO_Region'].fillna(df['WHO_Region'].mode()[0])\n",
    "df['Number and type of monitoring stations']=df['Number and type of monitoring stations'].fillna(df[\n",
    "                                                'Number and type of monitoring stations'].mode()[0])"
   ]
  },
  {
   "cell_type": "code",
   "execution_count": 17,
   "id": "b2ee4982",
   "metadata": {},
   "outputs": [
    {
     "data": {
      "text/plain": [
       "WHO_Region                                0\n",
       "ISO3                                      0\n",
       "Country_Name                              0\n",
       "City                                      0\n",
       "Measurement_Year                          0\n",
       "PM2.5                                     0\n",
       "PM10                                      0\n",
       "NO2                                       0\n",
       "PM25 temporal coverage (%)                0\n",
       "PM10 temporal coverage (%)                0\n",
       "NO2 temporal coverage (%)                 0\n",
       "Reference                                 0\n",
       "Number and type of monitoring stations    0\n",
       "Version of the database                   0\n",
       "Status                                    0\n",
       "dtype: int64"
      ]
     },
     "execution_count": 17,
     "metadata": {},
     "output_type": "execute_result"
    }
   ],
   "source": [
    "# null values are replaced with zeros for the numerical data\n",
    "df.fillna(0, inplace=True)\n",
    "df.isnull().sum()"
   ]
  },
  {
   "cell_type": "code",
   "execution_count": 18,
   "id": "20308424",
   "metadata": {},
   "outputs": [
    {
     "data": {
      "text/html": [
       "<div>\n",
       "<style scoped>\n",
       "    .dataframe tbody tr th:only-of-type {\n",
       "        vertical-align: middle;\n",
       "    }\n",
       "\n",
       "    .dataframe tbody tr th {\n",
       "        vertical-align: top;\n",
       "    }\n",
       "\n",
       "    .dataframe thead th {\n",
       "        text-align: right;\n",
       "    }\n",
       "</style>\n",
       "<table border=\"1\" class=\"dataframe\">\n",
       "  <thead>\n",
       "    <tr style=\"text-align: right;\">\n",
       "      <th></th>\n",
       "      <th>WHO_Region</th>\n",
       "      <th>ISO3</th>\n",
       "      <th>Country_Name</th>\n",
       "      <th>City</th>\n",
       "      <th>Measurement_Year</th>\n",
       "      <th>PM2.5</th>\n",
       "      <th>PM10</th>\n",
       "      <th>NO2</th>\n",
       "      <th>PM25 temporal coverage (%)</th>\n",
       "      <th>PM10 temporal coverage (%)</th>\n",
       "      <th>NO2 temporal coverage (%)</th>\n",
       "      <th>Reference</th>\n",
       "      <th>Number and type of monitoring stations</th>\n",
       "      <th>Version of the database</th>\n",
       "      <th>Status</th>\n",
       "    </tr>\n",
       "  </thead>\n",
       "  <tbody>\n",
       "    <tr>\n",
       "      <th>0</th>\n",
       "      <td>Eastern Mediterranean Region</td>\n",
       "      <td>AFG</td>\n",
       "      <td>Afghanistan</td>\n",
       "      <td>Kabul</td>\n",
       "      <td>2019</td>\n",
       "      <td>119.77</td>\n",
       "      <td>0.00</td>\n",
       "      <td>0.00</td>\n",
       "      <td>18.0</td>\n",
       "      <td>0.0</td>\n",
       "      <td>0.000000</td>\n",
       "      <td>U.S. Department of State, United States Enviro...</td>\n",
       "      <td>1 NA</td>\n",
       "      <td>2022</td>\n",
       "      <td>0.0</td>\n",
       "    </tr>\n",
       "    <tr>\n",
       "      <th>1</th>\n",
       "      <td>European Region</td>\n",
       "      <td>ALB</td>\n",
       "      <td>Albania</td>\n",
       "      <td>Durres</td>\n",
       "      <td>2015</td>\n",
       "      <td>0.00</td>\n",
       "      <td>17.65</td>\n",
       "      <td>26.63</td>\n",
       "      <td>0.0</td>\n",
       "      <td>0.0</td>\n",
       "      <td>83.961187</td>\n",
       "      <td>European Environment Agency (downloaded in 2021)</td>\n",
       "      <td>1 NA</td>\n",
       "      <td>2022</td>\n",
       "      <td>0.0</td>\n",
       "    </tr>\n",
       "    <tr>\n",
       "      <th>2</th>\n",
       "      <td>European Region</td>\n",
       "      <td>ALB</td>\n",
       "      <td>Albania</td>\n",
       "      <td>Durres</td>\n",
       "      <td>2016</td>\n",
       "      <td>14.32</td>\n",
       "      <td>24.56</td>\n",
       "      <td>24.78</td>\n",
       "      <td>0.0</td>\n",
       "      <td>0.0</td>\n",
       "      <td>87.932605</td>\n",
       "      <td>European Environment Agency (downloaded in 2021)</td>\n",
       "      <td>1 NA</td>\n",
       "      <td>2022</td>\n",
       "      <td>0.0</td>\n",
       "    </tr>\n",
       "    <tr>\n",
       "      <th>3</th>\n",
       "      <td>European Region</td>\n",
       "      <td>ALB</td>\n",
       "      <td>Albania</td>\n",
       "      <td>Elbasan</td>\n",
       "      <td>2015</td>\n",
       "      <td>0.00</td>\n",
       "      <td>0.00</td>\n",
       "      <td>23.96</td>\n",
       "      <td>0.0</td>\n",
       "      <td>0.0</td>\n",
       "      <td>97.853881</td>\n",
       "      <td>European Environment Agency (downloaded in 2021)</td>\n",
       "      <td>1 NA</td>\n",
       "      <td>2022</td>\n",
       "      <td>0.0</td>\n",
       "    </tr>\n",
       "    <tr>\n",
       "      <th>4</th>\n",
       "      <td>European Region</td>\n",
       "      <td>ALB</td>\n",
       "      <td>Albania</td>\n",
       "      <td>Elbasan</td>\n",
       "      <td>2016</td>\n",
       "      <td>0.00</td>\n",
       "      <td>0.00</td>\n",
       "      <td>26.26</td>\n",
       "      <td>0.0</td>\n",
       "      <td>0.0</td>\n",
       "      <td>96.049636</td>\n",
       "      <td>European Environment Agency (downloaded in 2021)</td>\n",
       "      <td>1 NA</td>\n",
       "      <td>2022</td>\n",
       "      <td>0.0</td>\n",
       "    </tr>\n",
       "    <tr>\n",
       "      <th>...</th>\n",
       "      <td>...</td>\n",
       "      <td>...</td>\n",
       "      <td>...</td>\n",
       "      <td>...</td>\n",
       "      <td>...</td>\n",
       "      <td>...</td>\n",
       "      <td>...</td>\n",
       "      <td>...</td>\n",
       "      <td>...</td>\n",
       "      <td>...</td>\n",
       "      <td>...</td>\n",
       "      <td>...</td>\n",
       "      <td>...</td>\n",
       "      <td>...</td>\n",
       "      <td>...</td>\n",
       "    </tr>\n",
       "    <tr>\n",
       "      <th>32186</th>\n",
       "      <td>African Region</td>\n",
       "      <td>ZAF</td>\n",
       "      <td>South Africa</td>\n",
       "      <td>West Coast</td>\n",
       "      <td>2015</td>\n",
       "      <td>7.47</td>\n",
       "      <td>24.64</td>\n",
       "      <td>7.64</td>\n",
       "      <td>75.0</td>\n",
       "      <td>75.0</td>\n",
       "      <td>75.000000</td>\n",
       "      <td>South African Air Quality Information System</td>\n",
       "      <td>3 Residential-Medium/Upper income</td>\n",
       "      <td>2022</td>\n",
       "      <td>0.0</td>\n",
       "    </tr>\n",
       "    <tr>\n",
       "      <th>32187</th>\n",
       "      <td>African Region</td>\n",
       "      <td>ZAF</td>\n",
       "      <td>South Africa</td>\n",
       "      <td>West Coast</td>\n",
       "      <td>2016</td>\n",
       "      <td>8.42</td>\n",
       "      <td>33.28</td>\n",
       "      <td>7.27</td>\n",
       "      <td>75.0</td>\n",
       "      <td>75.0</td>\n",
       "      <td>75.000000</td>\n",
       "      <td>South African Air Quality Information System</td>\n",
       "      <td>2 Residential-Medium/Upper income</td>\n",
       "      <td>2022</td>\n",
       "      <td>0.0</td>\n",
       "    </tr>\n",
       "    <tr>\n",
       "      <th>32188</th>\n",
       "      <td>African Region</td>\n",
       "      <td>ZAF</td>\n",
       "      <td>South Africa</td>\n",
       "      <td>West Coast</td>\n",
       "      <td>2017</td>\n",
       "      <td>6.83</td>\n",
       "      <td>20.49</td>\n",
       "      <td>8.72</td>\n",
       "      <td>75.0</td>\n",
       "      <td>75.0</td>\n",
       "      <td>75.000000</td>\n",
       "      <td>South African Air Quality Information System</td>\n",
       "      <td>2 Residential-Medium/Upper income</td>\n",
       "      <td>2022</td>\n",
       "      <td>0.0</td>\n",
       "    </tr>\n",
       "    <tr>\n",
       "      <th>32189</th>\n",
       "      <td>African Region</td>\n",
       "      <td>ZAF</td>\n",
       "      <td>South Africa</td>\n",
       "      <td>West Coast</td>\n",
       "      <td>2018</td>\n",
       "      <td>6.10</td>\n",
       "      <td>17.99</td>\n",
       "      <td>7.15</td>\n",
       "      <td>75.0</td>\n",
       "      <td>75.0</td>\n",
       "      <td>75.000000</td>\n",
       "      <td>South African Air Quality Information System</td>\n",
       "      <td>2 Residential-Medium/Upper income</td>\n",
       "      <td>2022</td>\n",
       "      <td>0.0</td>\n",
       "    </tr>\n",
       "    <tr>\n",
       "      <th>32190</th>\n",
       "      <td>African Region</td>\n",
       "      <td>ZAF</td>\n",
       "      <td>South Africa</td>\n",
       "      <td>West Rand</td>\n",
       "      <td>2016</td>\n",
       "      <td>0.00</td>\n",
       "      <td>0.00</td>\n",
       "      <td>17.85</td>\n",
       "      <td>0.0</td>\n",
       "      <td>0.0</td>\n",
       "      <td>75.000000</td>\n",
       "      <td>South African Air Quality Information System</td>\n",
       "      <td>1 N/A</td>\n",
       "      <td>2022</td>\n",
       "      <td>0.0</td>\n",
       "    </tr>\n",
       "  </tbody>\n",
       "</table>\n",
       "<p>32191 rows × 15 columns</p>\n",
       "</div>"
      ],
      "text/plain": [
       "                         WHO_Region ISO3  Country_Name        City  \\\n",
       "0      Eastern Mediterranean Region  AFG   Afghanistan       Kabul   \n",
       "1                   European Region  ALB       Albania      Durres   \n",
       "2                   European Region  ALB       Albania      Durres   \n",
       "3                   European Region  ALB       Albania     Elbasan   \n",
       "4                   European Region  ALB       Albania     Elbasan   \n",
       "...                             ...  ...           ...         ...   \n",
       "32186                African Region  ZAF  South Africa  West Coast   \n",
       "32187                African Region  ZAF  South Africa  West Coast   \n",
       "32188                African Region  ZAF  South Africa  West Coast   \n",
       "32189                African Region  ZAF  South Africa  West Coast   \n",
       "32190                African Region  ZAF  South Africa   West Rand   \n",
       "\n",
       "       Measurement_Year   PM2.5  PM10     NO2  PM25 temporal coverage (%)  \\\n",
       "0                  2019  119.77   0.00   0.00                        18.0   \n",
       "1                  2015    0.00  17.65  26.63                         0.0   \n",
       "2                  2016   14.32  24.56  24.78                         0.0   \n",
       "3                  2015    0.00   0.00  23.96                         0.0   \n",
       "4                  2016    0.00   0.00  26.26                         0.0   \n",
       "...                 ...     ...    ...    ...                         ...   \n",
       "32186              2015    7.47  24.64   7.64                        75.0   \n",
       "32187              2016    8.42  33.28   7.27                        75.0   \n",
       "32188              2017    6.83  20.49   8.72                        75.0   \n",
       "32189              2018    6.10  17.99   7.15                        75.0   \n",
       "32190              2016    0.00   0.00  17.85                         0.0   \n",
       "\n",
       "       PM10 temporal coverage (%)  NO2 temporal coverage (%)  \\\n",
       "0                             0.0                   0.000000   \n",
       "1                             0.0                  83.961187   \n",
       "2                             0.0                  87.932605   \n",
       "3                             0.0                  97.853881   \n",
       "4                             0.0                  96.049636   \n",
       "...                           ...                        ...   \n",
       "32186                        75.0                  75.000000   \n",
       "32187                        75.0                  75.000000   \n",
       "32188                        75.0                  75.000000   \n",
       "32189                        75.0                  75.000000   \n",
       "32190                         0.0                  75.000000   \n",
       "\n",
       "                                               Reference  \\\n",
       "0      U.S. Department of State, United States Enviro...   \n",
       "1       European Environment Agency (downloaded in 2021)   \n",
       "2       European Environment Agency (downloaded in 2021)   \n",
       "3       European Environment Agency (downloaded in 2021)   \n",
       "4       European Environment Agency (downloaded in 2021)   \n",
       "...                                                  ...   \n",
       "32186       South African Air Quality Information System   \n",
       "32187       South African Air Quality Information System   \n",
       "32188       South African Air Quality Information System   \n",
       "32189       South African Air Quality Information System   \n",
       "32190       South African Air Quality Information System   \n",
       "\n",
       "      Number and type of monitoring stations  Version of the database  Status  \n",
       "0                                       1 NA                     2022     0.0  \n",
       "1                                       1 NA                     2022     0.0  \n",
       "2                                       1 NA                     2022     0.0  \n",
       "3                                       1 NA                     2022     0.0  \n",
       "4                                       1 NA                     2022     0.0  \n",
       "...                                      ...                      ...     ...  \n",
       "32186      3 Residential-Medium/Upper income                     2022     0.0  \n",
       "32187      2 Residential-Medium/Upper income                     2022     0.0  \n",
       "32188      2 Residential-Medium/Upper income                     2022     0.0  \n",
       "32189      2 Residential-Medium/Upper income                     2022     0.0  \n",
       "32190                                  1 N/A                     2022     0.0  \n",
       "\n",
       "[32191 rows x 15 columns]"
      ]
     },
     "execution_count": 18,
     "metadata": {},
     "output_type": "execute_result"
    }
   ],
   "source": [
    "df"
   ]
  },
  {
   "cell_type": "markdown",
   "id": "7f92f467",
   "metadata": {},
   "source": [
    "### Data Cleaning"
   ]
  },
  {
   "cell_type": "code",
   "execution_count": 19,
   "id": "dddea70f",
   "metadata": {},
   "outputs": [],
   "source": [
    "# Dropping unnecessary columns\n",
    "df.drop(['ISO3'],axis=1,inplace=True)\n",
    "df.drop(['Measurement_Year'],axis=1,inplace=True)\n",
    "df.drop(['PM25 temporal coverage (%)'],axis=1,inplace=True)\n",
    "df.drop(['PM10 temporal coverage (%)'],axis=1,inplace=True)\n",
    "df.drop(['NO2 temporal coverage (%)'],axis=1,inplace=True)\n",
    "df.drop(['Reference'],axis=1,inplace=True)\n",
    "df.drop(['Version of the database'],axis=1,inplace=True)\n",
    "df.drop(['Status'],axis=1,inplace=True)\n",
    "df.drop(['Number and type of monitoring stations'],axis=1,inplace=True)"
   ]
  },
  {
   "cell_type": "markdown",
   "id": "a2665c83",
   "metadata": {},
   "source": [
    "# Feature Engineering"
   ]
  },
  {
   "attachments": {
    "AQI%20range.png": {
     "image/png": "[encoded data removed]"
    }
   },
   "cell_type": "markdown",
   "id": "51940460",
   "metadata": {},
   "source": [
    "![AQI%20range.png](attachment:AQI%20range.png)"
   ]
  },
  {
   "cell_type": "code",
   "execution_count": 20,
   "id": "14a54b78",
   "metadata": {},
   "outputs": [
    {
     "data": {
      "text/html": [
       "<div>\n",
       "<style scoped>\n",
       "    .dataframe tbody tr th:only-of-type {\n",
       "        vertical-align: middle;\n",
       "    }\n",
       "\n",
       "    .dataframe tbody tr th {\n",
       "        vertical-align: top;\n",
       "    }\n",
       "\n",
       "    .dataframe thead th {\n",
       "        text-align: right;\n",
       "    }\n",
       "</style>\n",
       "<table border=\"1\" class=\"dataframe\">\n",
       "  <thead>\n",
       "    <tr style=\"text-align: right;\">\n",
       "      <th></th>\n",
       "      <th>PM2.5</th>\n",
       "      <th>PM25_AQI</th>\n",
       "    </tr>\n",
       "  </thead>\n",
       "  <tbody>\n",
       "    <tr>\n",
       "      <th>0</th>\n",
       "      <td>119.77</td>\n",
       "      <td>175</td>\n",
       "    </tr>\n",
       "    <tr>\n",
       "      <th>1</th>\n",
       "      <td>0.00</td>\n",
       "      <td>25</td>\n",
       "    </tr>\n",
       "    <tr>\n",
       "      <th>2</th>\n",
       "      <td>14.32</td>\n",
       "      <td>75</td>\n",
       "    </tr>\n",
       "    <tr>\n",
       "      <th>3</th>\n",
       "      <td>0.00</td>\n",
       "      <td>25</td>\n",
       "    </tr>\n",
       "    <tr>\n",
       "      <th>4</th>\n",
       "      <td>0.00</td>\n",
       "      <td>25</td>\n",
       "    </tr>\n",
       "  </tbody>\n",
       "</table>\n",
       "</div>"
      ],
      "text/plain": [
       "    PM2.5  PM25_AQI\n",
       "0  119.77       175\n",
       "1    0.00        25\n",
       "2   14.32        75\n",
       "3    0.00        25\n",
       "4    0.00        25"
      ]
     },
     "execution_count": 20,
     "metadata": {},
     "output_type": "execute_result"
    }
   ],
   "source": [
    "#Function to calculate AQI based on PM2.5 value\n",
    "def cal_PM25_aqi(pm25):\n",
    "    PM25_aqi = 0.00\n",
    "    if(pm25 <= 12.00):\n",
    "        PM25_aqi = 25\n",
    "    elif(pm25 > 12.00 and pm25 <= 35.40):\n",
    "        PM25_aqi = 75\n",
    "    elif(pm25 > 35.40 and pm25 <= 55.40):\n",
    "        PM25_aqi = 125\n",
    "    elif(pm25 > 55.3 and pm25 <= 150.4):\n",
    "        PM25_aqi = 175\n",
    "    elif(pm25 > 150.4 and pm25 <= 250.4):\n",
    "        PM25_aqi = 250\n",
    "    else:\n",
    "        PM25_aqi = 400\n",
    "    return PM25_aqi\n",
    "\n",
    "df['PM25_AQI'] = df['PM2.5'].apply(cal_PM25_aqi)\n",
    "data = df[['PM2.5','PM25_AQI']]\n",
    "data.head()"
   ]
  },
  {
   "cell_type": "code",
   "execution_count": 21,
   "id": "1896db57",
   "metadata": {},
   "outputs": [
    {
     "data": {
      "text/html": [
       "<div>\n",
       "<style scoped>\n",
       "    .dataframe tbody tr th:only-of-type {\n",
       "        vertical-align: middle;\n",
       "    }\n",
       "\n",
       "    .dataframe tbody tr th {\n",
       "        vertical-align: top;\n",
       "    }\n",
       "\n",
       "    .dataframe thead th {\n",
       "        text-align: right;\n",
       "    }\n",
       "</style>\n",
       "<table border=\"1\" class=\"dataframe\">\n",
       "  <thead>\n",
       "    <tr style=\"text-align: right;\">\n",
       "      <th></th>\n",
       "      <th>PM10</th>\n",
       "      <th>PM10_AQI</th>\n",
       "    </tr>\n",
       "  </thead>\n",
       "  <tbody>\n",
       "    <tr>\n",
       "      <th>0</th>\n",
       "      <td>0.00</td>\n",
       "      <td>25</td>\n",
       "    </tr>\n",
       "    <tr>\n",
       "      <th>1</th>\n",
       "      <td>17.65</td>\n",
       "      <td>25</td>\n",
       "    </tr>\n",
       "    <tr>\n",
       "      <th>2</th>\n",
       "      <td>24.56</td>\n",
       "      <td>25</td>\n",
       "    </tr>\n",
       "    <tr>\n",
       "      <th>3</th>\n",
       "      <td>0.00</td>\n",
       "      <td>25</td>\n",
       "    </tr>\n",
       "    <tr>\n",
       "      <th>4</th>\n",
       "      <td>0.00</td>\n",
       "      <td>25</td>\n",
       "    </tr>\n",
       "  </tbody>\n",
       "</table>\n",
       "</div>"
      ],
      "text/plain": [
       "   PM10   PM10_AQI\n",
       "0   0.00        25\n",
       "1  17.65        25\n",
       "2  24.56        25\n",
       "3   0.00        25\n",
       "4   0.00        25"
      ]
     },
     "execution_count": 21,
     "metadata": {},
     "output_type": "execute_result"
    }
   ],
   "source": [
    "#Function to calculate AQI based on PM10 value\n",
    "def cal_PM10_aqi(pm10):\n",
    "    PM10_aqi = 0\n",
    "    if(pm10 <= 54):\n",
    "        PM10_aqi = 25\n",
    "    elif(pm10 > 54 and pm10 <= 154):\n",
    "        PM10_aqi = 75\n",
    "    elif(pm10 > 154 and pm10 <= 254):\n",
    "        PM10_aqi = 125\n",
    "    elif(pm10 > 254 and pm10 <= 354):\n",
    "        PM10_aqi = 175\n",
    "    elif(pm10 > 354 and pm10 <= 424):\n",
    "        PM10_aqi = 250\n",
    "    else:\n",
    "        PM10_aqi = 400\n",
    "    return PM10_aqi\n",
    "\n",
    "df['PM10_AQI'] = df['PM10 '].apply(cal_PM10_aqi)\n",
    "data = df[['PM10 ','PM10_AQI']]\n",
    "data.head()"
   ]
  },
  {
   "attachments": {
    "NO2_AQI%20range.png": {
     "image/png": "[encoded data removed]"
    }
   },
   "cell_type": "markdown",
   "id": "f11e2260",
   "metadata": {},
   "source": [
    "![NO2_AQI%20range.png](attachment:NO2_AQI%20range.png)"
   ]
  },
  {
   "cell_type": "code",
   "execution_count": 22,
   "id": "c0edea14",
   "metadata": {},
   "outputs": [
    {
     "data": {
      "text/html": [
       "<div>\n",
       "<style scoped>\n",
       "    .dataframe tbody tr th:only-of-type {\n",
       "        vertical-align: middle;\n",
       "    }\n",
       "\n",
       "    .dataframe tbody tr th {\n",
       "        vertical-align: top;\n",
       "    }\n",
       "\n",
       "    .dataframe thead th {\n",
       "        text-align: right;\n",
       "    }\n",
       "</style>\n",
       "<table border=\"1\" class=\"dataframe\">\n",
       "  <thead>\n",
       "    <tr style=\"text-align: right;\">\n",
       "      <th></th>\n",
       "      <th>NO2</th>\n",
       "      <th>NO2_AQI</th>\n",
       "    </tr>\n",
       "  </thead>\n",
       "  <tbody>\n",
       "    <tr>\n",
       "      <th>0</th>\n",
       "      <td>0.00</td>\n",
       "      <td>25</td>\n",
       "    </tr>\n",
       "    <tr>\n",
       "      <th>1</th>\n",
       "      <td>26.63</td>\n",
       "      <td>25</td>\n",
       "    </tr>\n",
       "    <tr>\n",
       "      <th>2</th>\n",
       "      <td>24.78</td>\n",
       "      <td>25</td>\n",
       "    </tr>\n",
       "    <tr>\n",
       "      <th>3</th>\n",
       "      <td>23.96</td>\n",
       "      <td>25</td>\n",
       "    </tr>\n",
       "    <tr>\n",
       "      <th>4</th>\n",
       "      <td>26.26</td>\n",
       "      <td>25</td>\n",
       "    </tr>\n",
       "  </tbody>\n",
       "</table>\n",
       "</div>"
      ],
      "text/plain": [
       "     NO2  NO2_AQI\n",
       "0   0.00       25\n",
       "1  26.63       25\n",
       "2  24.78       25\n",
       "3  23.96       25\n",
       "4  26.26       25"
      ]
     },
     "execution_count": 22,
     "metadata": {},
     "output_type": "execute_result"
    }
   ],
   "source": [
    "#Function to calculate AQI based on NO2 value\n",
    "def cal_NO2_aqi(NO2):\n",
    "    NO2_aqi = 0\n",
    "    if(NO2 <= 53):\n",
    "        NO2_aqi = 25\n",
    "    elif(NO2 > 53 and NO2 <= 100):\n",
    "        NO2_aqi = 75\n",
    "    elif(NO2 > 100 and NO2 <= 360):\n",
    "        NO2_aqi = 125\n",
    "    elif(NO2 > 360 and NO2 <= 649):\n",
    "        NO2_aqi = 175\n",
    "    elif(NO2 > 649 and NO2 <= 1249):\n",
    "        NO2_aqi = 250\n",
    "    else:\n",
    "        NO2_aqi = 400\n",
    "    return NO2_aqi\n",
    "\n",
    "df['NO2_AQI'] = df['NO2'].apply(cal_NO2_aqi)\n",
    "data = df[['NO2','NO2_AQI']]\n",
    "data.head()"
   ]
  },
  {
   "cell_type": "code",
   "execution_count": 23,
   "id": "b4f45850",
   "metadata": {},
   "outputs": [
    {
     "data": {
      "text/html": [
       "<div>\n",
       "<style scoped>\n",
       "    .dataframe tbody tr th:only-of-type {\n",
       "        vertical-align: middle;\n",
       "    }\n",
       "\n",
       "    .dataframe tbody tr th {\n",
       "        vertical-align: top;\n",
       "    }\n",
       "\n",
       "    .dataframe thead th {\n",
       "        text-align: right;\n",
       "    }\n",
       "</style>\n",
       "<table border=\"1\" class=\"dataframe\">\n",
       "  <thead>\n",
       "    <tr style=\"text-align: right;\">\n",
       "      <th></th>\n",
       "      <th>WHO_Region</th>\n",
       "      <th>Country_Name</th>\n",
       "      <th>City</th>\n",
       "      <th>PM2.5</th>\n",
       "      <th>PM10</th>\n",
       "      <th>NO2</th>\n",
       "      <th>PM25_AQI</th>\n",
       "      <th>PM10_AQI</th>\n",
       "      <th>NO2_AQI</th>\n",
       "    </tr>\n",
       "  </thead>\n",
       "  <tbody>\n",
       "    <tr>\n",
       "      <th>0</th>\n",
       "      <td>Eastern Mediterranean Region</td>\n",
       "      <td>Afghanistan</td>\n",
       "      <td>Kabul</td>\n",
       "      <td>119.77</td>\n",
       "      <td>0.00</td>\n",
       "      <td>0.00</td>\n",
       "      <td>175</td>\n",
       "      <td>25</td>\n",
       "      <td>25</td>\n",
       "    </tr>\n",
       "    <tr>\n",
       "      <th>1</th>\n",
       "      <td>European Region</td>\n",
       "      <td>Albania</td>\n",
       "      <td>Durres</td>\n",
       "      <td>0.00</td>\n",
       "      <td>17.65</td>\n",
       "      <td>26.63</td>\n",
       "      <td>25</td>\n",
       "      <td>25</td>\n",
       "      <td>25</td>\n",
       "    </tr>\n",
       "    <tr>\n",
       "      <th>2</th>\n",
       "      <td>European Region</td>\n",
       "      <td>Albania</td>\n",
       "      <td>Durres</td>\n",
       "      <td>14.32</td>\n",
       "      <td>24.56</td>\n",
       "      <td>24.78</td>\n",
       "      <td>75</td>\n",
       "      <td>25</td>\n",
       "      <td>25</td>\n",
       "    </tr>\n",
       "    <tr>\n",
       "      <th>3</th>\n",
       "      <td>European Region</td>\n",
       "      <td>Albania</td>\n",
       "      <td>Elbasan</td>\n",
       "      <td>0.00</td>\n",
       "      <td>0.00</td>\n",
       "      <td>23.96</td>\n",
       "      <td>25</td>\n",
       "      <td>25</td>\n",
       "      <td>25</td>\n",
       "    </tr>\n",
       "    <tr>\n",
       "      <th>4</th>\n",
       "      <td>European Region</td>\n",
       "      <td>Albania</td>\n",
       "      <td>Elbasan</td>\n",
       "      <td>0.00</td>\n",
       "      <td>0.00</td>\n",
       "      <td>26.26</td>\n",
       "      <td>25</td>\n",
       "      <td>25</td>\n",
       "      <td>25</td>\n",
       "    </tr>\n",
       "    <tr>\n",
       "      <th>...</th>\n",
       "      <td>...</td>\n",
       "      <td>...</td>\n",
       "      <td>...</td>\n",
       "      <td>...</td>\n",
       "      <td>...</td>\n",
       "      <td>...</td>\n",
       "      <td>...</td>\n",
       "      <td>...</td>\n",
       "      <td>...</td>\n",
       "    </tr>\n",
       "    <tr>\n",
       "      <th>32186</th>\n",
       "      <td>African Region</td>\n",
       "      <td>South Africa</td>\n",
       "      <td>West Coast</td>\n",
       "      <td>7.47</td>\n",
       "      <td>24.64</td>\n",
       "      <td>7.64</td>\n",
       "      <td>25</td>\n",
       "      <td>25</td>\n",
       "      <td>25</td>\n",
       "    </tr>\n",
       "    <tr>\n",
       "      <th>32187</th>\n",
       "      <td>African Region</td>\n",
       "      <td>South Africa</td>\n",
       "      <td>West Coast</td>\n",
       "      <td>8.42</td>\n",
       "      <td>33.28</td>\n",
       "      <td>7.27</td>\n",
       "      <td>25</td>\n",
       "      <td>25</td>\n",
       "      <td>25</td>\n",
       "    </tr>\n",
       "    <tr>\n",
       "      <th>32188</th>\n",
       "      <td>African Region</td>\n",
       "      <td>South Africa</td>\n",
       "      <td>West Coast</td>\n",
       "      <td>6.83</td>\n",
       "      <td>20.49</td>\n",
       "      <td>8.72</td>\n",
       "      <td>25</td>\n",
       "      <td>25</td>\n",
       "      <td>25</td>\n",
       "    </tr>\n",
       "    <tr>\n",
       "      <th>32189</th>\n",
       "      <td>African Region</td>\n",
       "      <td>South Africa</td>\n",
       "      <td>West Coast</td>\n",
       "      <td>6.10</td>\n",
       "      <td>17.99</td>\n",
       "      <td>7.15</td>\n",
       "      <td>25</td>\n",
       "      <td>25</td>\n",
       "      <td>25</td>\n",
       "    </tr>\n",
       "    <tr>\n",
       "      <th>32190</th>\n",
       "      <td>African Region</td>\n",
       "      <td>South Africa</td>\n",
       "      <td>West Rand</td>\n",
       "      <td>0.00</td>\n",
       "      <td>0.00</td>\n",
       "      <td>17.85</td>\n",
       "      <td>25</td>\n",
       "      <td>25</td>\n",
       "      <td>25</td>\n",
       "    </tr>\n",
       "  </tbody>\n",
       "</table>\n",
       "<p>32191 rows × 9 columns</p>\n",
       "</div>"
      ],
      "text/plain": [
       "                         WHO_Region  Country_Name        City   PM2.5  PM10   \\\n",
       "0      Eastern Mediterranean Region   Afghanistan       Kabul  119.77   0.00   \n",
       "1                   European Region       Albania      Durres    0.00  17.65   \n",
       "2                   European Region       Albania      Durres   14.32  24.56   \n",
       "3                   European Region       Albania     Elbasan    0.00   0.00   \n",
       "4                   European Region       Albania     Elbasan    0.00   0.00   \n",
       "...                             ...           ...         ...     ...    ...   \n",
       "32186                African Region  South Africa  West Coast    7.47  24.64   \n",
       "32187                African Region  South Africa  West Coast    8.42  33.28   \n",
       "32188                African Region  South Africa  West Coast    6.83  20.49   \n",
       "32189                African Region  South Africa  West Coast    6.10  17.99   \n",
       "32190                African Region  South Africa   West Rand    0.00   0.00   \n",
       "\n",
       "         NO2  PM25_AQI  PM10_AQI  NO2_AQI  \n",
       "0       0.00       175        25       25  \n",
       "1      26.63        25        25       25  \n",
       "2      24.78        75        25       25  \n",
       "3      23.96        25        25       25  \n",
       "4      26.26        25        25       25  \n",
       "...      ...       ...       ...      ...  \n",
       "32186   7.64        25        25       25  \n",
       "32187   7.27        25        25       25  \n",
       "32188   8.72        25        25       25  \n",
       "32189   7.15        25        25       25  \n",
       "32190  17.85        25        25       25  \n",
       "\n",
       "[32191 rows x 9 columns]"
      ]
     },
     "execution_count": 23,
     "metadata": {},
     "output_type": "execute_result"
    }
   ],
   "source": [
    "df"
   ]
  },
  {
   "cell_type": "code",
   "execution_count": 24,
   "id": "d2309ccd",
   "metadata": {},
   "outputs": [
    {
     "data": {
      "text/html": [
       "<div>\n",
       "<style scoped>\n",
       "    .dataframe tbody tr th:only-of-type {\n",
       "        vertical-align: middle;\n",
       "    }\n",
       "\n",
       "    .dataframe tbody tr th {\n",
       "        vertical-align: top;\n",
       "    }\n",
       "\n",
       "    .dataframe thead th {\n",
       "        text-align: right;\n",
       "    }\n",
       "</style>\n",
       "<table border=\"1\" class=\"dataframe\">\n",
       "  <thead>\n",
       "    <tr style=\"text-align: right;\">\n",
       "      <th></th>\n",
       "      <th>WHO_Region</th>\n",
       "      <th>Country_Name</th>\n",
       "      <th>City</th>\n",
       "      <th>PM2.5</th>\n",
       "      <th>PM10</th>\n",
       "      <th>NO2</th>\n",
       "      <th>PM25_AQI</th>\n",
       "      <th>PM10_AQI</th>\n",
       "      <th>NO2_AQI</th>\n",
       "      <th>finalAQI</th>\n",
       "    </tr>\n",
       "  </thead>\n",
       "  <tbody>\n",
       "    <tr>\n",
       "      <th>0</th>\n",
       "      <td>Eastern Mediterranean Region</td>\n",
       "      <td>Afghanistan</td>\n",
       "      <td>Kabul</td>\n",
       "      <td>119.77</td>\n",
       "      <td>0.00</td>\n",
       "      <td>0.00</td>\n",
       "      <td>175</td>\n",
       "      <td>25</td>\n",
       "      <td>25</td>\n",
       "      <td>75.00</td>\n",
       "    </tr>\n",
       "    <tr>\n",
       "      <th>1</th>\n",
       "      <td>European Region</td>\n",
       "      <td>Albania</td>\n",
       "      <td>Durres</td>\n",
       "      <td>0.00</td>\n",
       "      <td>17.65</td>\n",
       "      <td>26.63</td>\n",
       "      <td>25</td>\n",
       "      <td>25</td>\n",
       "      <td>25</td>\n",
       "      <td>25.00</td>\n",
       "    </tr>\n",
       "    <tr>\n",
       "      <th>2</th>\n",
       "      <td>European Region</td>\n",
       "      <td>Albania</td>\n",
       "      <td>Durres</td>\n",
       "      <td>14.32</td>\n",
       "      <td>24.56</td>\n",
       "      <td>24.78</td>\n",
       "      <td>75</td>\n",
       "      <td>25</td>\n",
       "      <td>25</td>\n",
       "      <td>41.67</td>\n",
       "    </tr>\n",
       "    <tr>\n",
       "      <th>3</th>\n",
       "      <td>European Region</td>\n",
       "      <td>Albania</td>\n",
       "      <td>Elbasan</td>\n",
       "      <td>0.00</td>\n",
       "      <td>0.00</td>\n",
       "      <td>23.96</td>\n",
       "      <td>25</td>\n",
       "      <td>25</td>\n",
       "      <td>25</td>\n",
       "      <td>25.00</td>\n",
       "    </tr>\n",
       "    <tr>\n",
       "      <th>4</th>\n",
       "      <td>European Region</td>\n",
       "      <td>Albania</td>\n",
       "      <td>Elbasan</td>\n",
       "      <td>0.00</td>\n",
       "      <td>0.00</td>\n",
       "      <td>26.26</td>\n",
       "      <td>25</td>\n",
       "      <td>25</td>\n",
       "      <td>25</td>\n",
       "      <td>25.00</td>\n",
       "    </tr>\n",
       "  </tbody>\n",
       "</table>\n",
       "</div>"
      ],
      "text/plain": [
       "                     WHO_Region Country_Name     City   PM2.5  PM10     NO2  \\\n",
       "0  Eastern Mediterranean Region  Afghanistan    Kabul  119.77   0.00   0.00   \n",
       "1               European Region      Albania   Durres    0.00  17.65  26.63   \n",
       "2               European Region      Albania   Durres   14.32  24.56  24.78   \n",
       "3               European Region      Albania  Elbasan    0.00   0.00  23.96   \n",
       "4               European Region      Albania  Elbasan    0.00   0.00  26.26   \n",
       "\n",
       "   PM25_AQI  PM10_AQI  NO2_AQI  finalAQI  \n",
       "0       175        25       25     75.00  \n",
       "1        25        25       25     25.00  \n",
       "2        75        25       25     41.67  \n",
       "3        25        25       25     25.00  \n",
       "4        25        25       25     25.00  "
      ]
     },
     "execution_count": 24,
     "metadata": {},
     "output_type": "execute_result"
    }
   ],
   "source": [
    "# Calculate the final air quality index (finalAQI) of every data value by taking the average of 'PM25_AQI','PM10_AQI','NO2_AQI'.\n",
    "df['finalAQI'] = round(df[['PM25_AQI','PM10_AQI','NO2_AQI']].mean(axis=1), 2)\n",
    "df.head()"
   ]
  },
  {
   "cell_type": "markdown",
   "id": "b192cc55",
   "metadata": {},
   "source": [
    "#### AQI range & probable impacts:\n",
    "0-50: The range shows that the air quality is GOOD and it poses no health threat.\n",
    "\n",
    "51-100: This range is MODERATE and the quality is acceptable. Some people may experience discomfort.\n",
    "\n",
    "101-150: The air quality in this range is UNHEALTHY for sensitive groups. They experience breathing discomfort.\n",
    "\n",
    "151-200: The range shows UNHEALTHY air quality and people start to experience effects such as breathing difficulty.\n",
    "\n",
    "201-300: Air quality is VERY UNHEALTHY in this range and health warnings may be issued for emergency conditions. All people are likely to be affected.\n",
    "\n",
    "301-500: This is the HAZARDOUS category of air quality and serious health impacts such as breathing discomfort, suffocation, airway irritation, etc. may be experienced by all."
   ]
  },
  {
   "cell_type": "code",
   "execution_count": 25,
   "id": "c1360ffb",
   "metadata": {},
   "outputs": [
    {
     "data": {
      "text/html": [
       "<div>\n",
       "<style scoped>\n",
       "    .dataframe tbody tr th:only-of-type {\n",
       "        vertical-align: middle;\n",
       "    }\n",
       "\n",
       "    .dataframe tbody tr th {\n",
       "        vertical-align: top;\n",
       "    }\n",
       "\n",
       "    .dataframe thead th {\n",
       "        text-align: right;\n",
       "    }\n",
       "</style>\n",
       "<table border=\"1\" class=\"dataframe\">\n",
       "  <thead>\n",
       "    <tr style=\"text-align: right;\">\n",
       "      <th></th>\n",
       "      <th>WHO_Region</th>\n",
       "      <th>Country_Name</th>\n",
       "      <th>City</th>\n",
       "      <th>PM2.5</th>\n",
       "      <th>PM10</th>\n",
       "      <th>NO2</th>\n",
       "      <th>PM25_AQI</th>\n",
       "      <th>PM10_AQI</th>\n",
       "      <th>NO2_AQI</th>\n",
       "      <th>finalAQI</th>\n",
       "      <th>AQI_Range</th>\n",
       "    </tr>\n",
       "  </thead>\n",
       "  <tbody>\n",
       "    <tr>\n",
       "      <th>0</th>\n",
       "      <td>Eastern Mediterranean Region</td>\n",
       "      <td>Afghanistan</td>\n",
       "      <td>Kabul</td>\n",
       "      <td>119.77</td>\n",
       "      <td>0.00</td>\n",
       "      <td>0.00</td>\n",
       "      <td>175</td>\n",
       "      <td>25</td>\n",
       "      <td>25</td>\n",
       "      <td>75.00</td>\n",
       "      <td>MODERATE</td>\n",
       "    </tr>\n",
       "    <tr>\n",
       "      <th>1</th>\n",
       "      <td>European Region</td>\n",
       "      <td>Albania</td>\n",
       "      <td>Durres</td>\n",
       "      <td>0.00</td>\n",
       "      <td>17.65</td>\n",
       "      <td>26.63</td>\n",
       "      <td>25</td>\n",
       "      <td>25</td>\n",
       "      <td>25</td>\n",
       "      <td>25.00</td>\n",
       "      <td>GOOD</td>\n",
       "    </tr>\n",
       "    <tr>\n",
       "      <th>2</th>\n",
       "      <td>European Region</td>\n",
       "      <td>Albania</td>\n",
       "      <td>Durres</td>\n",
       "      <td>14.32</td>\n",
       "      <td>24.56</td>\n",
       "      <td>24.78</td>\n",
       "      <td>75</td>\n",
       "      <td>25</td>\n",
       "      <td>25</td>\n",
       "      <td>41.67</td>\n",
       "      <td>GOOD</td>\n",
       "    </tr>\n",
       "    <tr>\n",
       "      <th>3</th>\n",
       "      <td>European Region</td>\n",
       "      <td>Albania</td>\n",
       "      <td>Elbasan</td>\n",
       "      <td>0.00</td>\n",
       "      <td>0.00</td>\n",
       "      <td>23.96</td>\n",
       "      <td>25</td>\n",
       "      <td>25</td>\n",
       "      <td>25</td>\n",
       "      <td>25.00</td>\n",
       "      <td>GOOD</td>\n",
       "    </tr>\n",
       "    <tr>\n",
       "      <th>4</th>\n",
       "      <td>European Region</td>\n",
       "      <td>Albania</td>\n",
       "      <td>Elbasan</td>\n",
       "      <td>0.00</td>\n",
       "      <td>0.00</td>\n",
       "      <td>26.26</td>\n",
       "      <td>25</td>\n",
       "      <td>25</td>\n",
       "      <td>25</td>\n",
       "      <td>25.00</td>\n",
       "      <td>GOOD</td>\n",
       "    </tr>\n",
       "  </tbody>\n",
       "</table>\n",
       "</div>"
      ],
      "text/plain": [
       "                     WHO_Region Country_Name     City   PM2.5  PM10     NO2  \\\n",
       "0  Eastern Mediterranean Region  Afghanistan    Kabul  119.77   0.00   0.00   \n",
       "1               European Region      Albania   Durres    0.00  17.65  26.63   \n",
       "2               European Region      Albania   Durres   14.32  24.56  24.78   \n",
       "3               European Region      Albania  Elbasan    0.00   0.00  23.96   \n",
       "4               European Region      Albania  Elbasan    0.00   0.00  26.26   \n",
       "\n",
       "   PM25_AQI  PM10_AQI  NO2_AQI  finalAQI AQI_Range  \n",
       "0       175        25       25     75.00  MODERATE  \n",
       "1        25        25       25     25.00      GOOD  \n",
       "2        75        25       25     41.67      GOOD  \n",
       "3        25        25       25     25.00      GOOD  \n",
       "4        25        25       25     25.00      GOOD  "
      ]
     },
     "execution_count": 25,
     "metadata": {},
     "output_type": "execute_result"
    }
   ],
   "source": [
    "# Using threshold values to classify a particular values as good, moderate, unhealthy, very unhealthy and Hazardous\n",
    "def AQI_Range(x):\n",
    "    if x<=50:\n",
    "        return \"GOOD\"\n",
    "    elif x>50 and x<=100:\n",
    "        return \"MODERATE\"\n",
    "    elif x>100 and x<=200:\n",
    "        return \"UNHEALTHY\"\n",
    "    elif x>200 and x<=300:\n",
    "        return \"VERY UNHEALTHY\"\n",
    "    elif x>300:\n",
    "        return \"HAZARDOUS\"\n",
    "        \n",
    "df['AQI_Range'] = df['finalAQI'] .apply(AQI_Range)\n",
    "df.head()"
   ]
  },
  {
   "cell_type": "code",
   "execution_count": 26,
   "id": "8dcea3e0",
   "metadata": {},
   "outputs": [
    {
     "data": {
      "text/plain": [
       "GOOD         28410\n",
       "MODERATE      3707\n",
       "UNHEALTHY       74\n",
       "Name: AQI_Range, dtype: int64"
      ]
     },
     "execution_count": 26,
     "metadata": {},
     "output_type": "execute_result"
    }
   ],
   "source": [
    "# These are the counts of values present in the AQI_Range column.\n",
    "df['AQI_Range'].value_counts()"
   ]
  },
  {
   "cell_type": "markdown",
   "id": "13e08681",
   "metadata": {},
   "source": [
    "### Feature Selection"
   ]
  },
  {
   "cell_type": "code",
   "execution_count": 27,
   "id": "9f627314",
   "metadata": {},
   "outputs": [
    {
     "data": {
      "text/html": [
       "<div>\n",
       "<style scoped>\n",
       "    .dataframe tbody tr th:only-of-type {\n",
       "        vertical-align: middle;\n",
       "    }\n",
       "\n",
       "    .dataframe tbody tr th {\n",
       "        vertical-align: top;\n",
       "    }\n",
       "\n",
       "    .dataframe thead th {\n",
       "        text-align: right;\n",
       "    }\n",
       "</style>\n",
       "<table border=\"1\" class=\"dataframe\">\n",
       "  <thead>\n",
       "    <tr style=\"text-align: right;\">\n",
       "      <th></th>\n",
       "      <th>PM2.5</th>\n",
       "      <th>PM10</th>\n",
       "      <th>NO2</th>\n",
       "      <th>finalAQI</th>\n",
       "    </tr>\n",
       "  </thead>\n",
       "  <tbody>\n",
       "    <tr>\n",
       "      <th>0</th>\n",
       "      <td>119.77</td>\n",
       "      <td>0.00</td>\n",
       "      <td>0.00</td>\n",
       "      <td>75.00</td>\n",
       "    </tr>\n",
       "    <tr>\n",
       "      <th>1</th>\n",
       "      <td>0.00</td>\n",
       "      <td>17.65</td>\n",
       "      <td>26.63</td>\n",
       "      <td>25.00</td>\n",
       "    </tr>\n",
       "    <tr>\n",
       "      <th>2</th>\n",
       "      <td>14.32</td>\n",
       "      <td>24.56</td>\n",
       "      <td>24.78</td>\n",
       "      <td>41.67</td>\n",
       "    </tr>\n",
       "    <tr>\n",
       "      <th>3</th>\n",
       "      <td>0.00</td>\n",
       "      <td>0.00</td>\n",
       "      <td>23.96</td>\n",
       "      <td>25.00</td>\n",
       "    </tr>\n",
       "    <tr>\n",
       "      <th>4</th>\n",
       "      <td>0.00</td>\n",
       "      <td>0.00</td>\n",
       "      <td>26.26</td>\n",
       "      <td>25.00</td>\n",
       "    </tr>\n",
       "  </tbody>\n",
       "</table>\n",
       "</div>"
      ],
      "text/plain": [
       "    PM2.5  PM10     NO2  finalAQI\n",
       "0  119.77   0.00   0.00     75.00\n",
       "1    0.00  17.65  26.63     25.00\n",
       "2   14.32  24.56  24.78     41.67\n",
       "3    0.00   0.00  23.96     25.00\n",
       "4    0.00   0.00  26.26     25.00"
      ]
     },
     "execution_count": 27,
     "metadata": {},
     "output_type": "execute_result"
    }
   ],
   "source": [
    "# we only select columns like PM2.5, PM10, NO2, finalAQI\n",
    "feature = df[['PM2.5','PM10 ','NO2','finalAQI']]\n",
    "feature.head()"
   ]
  },
  {
   "cell_type": "code",
   "execution_count": 28,
   "id": "58c03142",
   "metadata": {},
   "outputs": [
    {
     "data": {
      "image/png": "[encoded data removed]",
      "text/plain": [
       "<Figure size 576x360 with 2 Axes>"
      ]
     },
     "metadata": {
      "needs_background": "light"
     },
     "output_type": "display_data"
    }
   ],
   "source": [
    "# Correlation of selected features\n",
    "plt.figure(figsize=(8,5))\n",
    "sns.heatmap(feature.corr(), annot=True);"
   ]
  },
  {
   "cell_type": "code",
   "execution_count": 29,
   "id": "627ab10c",
   "metadata": {},
   "outputs": [
    {
     "data": {
      "image/png": "[encoded data removed]",
      "text/plain": [
       "<Figure size 455.125x360 with 1 Axes>"
      ]
     },
     "metadata": {
      "needs_background": "light"
     },
     "output_type": "display_data"
    },
    {
     "data": {
      "image/png": "[encoded data removed]",
      "text/plain": [
       "<Figure size 455.125x360 with 1 Axes>"
      ]
     },
     "metadata": {
      "needs_background": "light"
     },
     "output_type": "display_data"
    },
    {
     "data": {
      "image/png": "[encoded data removed]",
      "text/plain": [
       "<Figure size 455.125x360 with 1 Axes>"
      ]
     },
     "metadata": {
      "needs_background": "light"
     },
     "output_type": "display_data"
    }
   ],
   "source": [
    "for i in df[['PM2.5','PM10 ','NO2']]:\n",
    "    sns.relplot(data = df, x=i , y = df['finalAQI'], hue = df['AQI_Range'])"
   ]
  },
  {
   "cell_type": "markdown",
   "id": "243362f2",
   "metadata": {},
   "source": [
    "#  Machine Learning Model Training"
   ]
  },
  {
   "cell_type": "code",
   "execution_count": 30,
   "id": "d87362f7",
   "metadata": {},
   "outputs": [],
   "source": [
    "from sklearn.model_selection import train_test_split\n",
    "from sklearn.linear_model import LinearRegression\n",
    "from sklearn.tree import DecisionTreeRegressor\n",
    "from sklearn.ensemble import RandomForestRegressor\n",
    "from sklearn import metrics\n",
    "from sklearn.metrics import mean_absolute_error,mean_squared_error,r2_score\n",
    "from sklearn.metrics import accuracy_score, confusion_matrix"
   ]
  },
  {
   "cell_type": "code",
   "execution_count": 31,
   "id": "528bf589",
   "metadata": {},
   "outputs": [
    {
     "data": {
      "text/html": [
       "<div>\n",
       "<style scoped>\n",
       "    .dataframe tbody tr th:only-of-type {\n",
       "        vertical-align: middle;\n",
       "    }\n",
       "\n",
       "    .dataframe tbody tr th {\n",
       "        vertical-align: top;\n",
       "    }\n",
       "\n",
       "    .dataframe thead th {\n",
       "        text-align: right;\n",
       "    }\n",
       "</style>\n",
       "<table border=\"1\" class=\"dataframe\">\n",
       "  <thead>\n",
       "    <tr style=\"text-align: right;\">\n",
       "      <th></th>\n",
       "      <th>PM2.5</th>\n",
       "      <th>PM10</th>\n",
       "      <th>NO2</th>\n",
       "    </tr>\n",
       "  </thead>\n",
       "  <tbody>\n",
       "    <tr>\n",
       "      <th>0</th>\n",
       "      <td>119.77</td>\n",
       "      <td>0.00</td>\n",
       "      <td>0.00</td>\n",
       "    </tr>\n",
       "    <tr>\n",
       "      <th>1</th>\n",
       "      <td>0.00</td>\n",
       "      <td>17.65</td>\n",
       "      <td>26.63</td>\n",
       "    </tr>\n",
       "    <tr>\n",
       "      <th>2</th>\n",
       "      <td>14.32</td>\n",
       "      <td>24.56</td>\n",
       "      <td>24.78</td>\n",
       "    </tr>\n",
       "    <tr>\n",
       "      <th>3</th>\n",
       "      <td>0.00</td>\n",
       "      <td>0.00</td>\n",
       "      <td>23.96</td>\n",
       "    </tr>\n",
       "    <tr>\n",
       "      <th>4</th>\n",
       "      <td>0.00</td>\n",
       "      <td>0.00</td>\n",
       "      <td>26.26</td>\n",
       "    </tr>\n",
       "  </tbody>\n",
       "</table>\n",
       "</div>"
      ],
      "text/plain": [
       "    PM2.5  PM10     NO2\n",
       "0  119.77   0.00   0.00\n",
       "1    0.00  17.65  26.63\n",
       "2   14.32  24.56  24.78\n",
       "3    0.00   0.00  23.96\n",
       "4    0.00   0.00  26.26"
      ]
     },
     "execution_count": 31,
     "metadata": {},
     "output_type": "execute_result"
    }
   ],
   "source": [
    "X= df[['PM2.5','PM10 ','NO2']]\n",
    "Y= df['finalAQI']\n",
    "X.head()"
   ]
  },
  {
   "cell_type": "code",
   "execution_count": 32,
   "id": "f4308ed3",
   "metadata": {},
   "outputs": [
    {
     "data": {
      "text/plain": [
       "0    75.00\n",
       "1    25.00\n",
       "2    41.67\n",
       "3    25.00\n",
       "4    25.00\n",
       "Name: finalAQI, dtype: float64"
      ]
     },
     "execution_count": 32,
     "metadata": {},
     "output_type": "execute_result"
    }
   ],
   "source": [
    "Y.head()"
   ]
  },
  {
   "cell_type": "markdown",
   "id": "f848d9d9",
   "metadata": {},
   "source": [
    "### Split the dataset into training and testing sets."
   ]
  },
  {
   "cell_type": "code",
   "execution_count": 33,
   "id": "5fa86ddc",
   "metadata": {},
   "outputs": [
    {
     "name": "stdout",
     "output_type": "stream",
     "text": [
      "(25752, 3) (6439, 3) (25752,) (6439,)\n"
     ]
    }
   ],
   "source": [
    "X_train,X_test,Y_train,Y_test=train_test_split(X,Y,test_size=0.2,random_state=70)\n",
    "print(X_train.shape,X_test.shape,Y_train.shape,Y_test.shape)"
   ]
  },
  {
   "cell_type": "markdown",
   "id": "f384104e",
   "metadata": {},
   "source": [
    "# Regression Algorithms\n",
    "### Linear Regression"
   ]
  },
  {
   "cell_type": "code",
   "execution_count": 34,
   "id": "18519ba1",
   "metadata": {},
   "outputs": [
    {
     "name": "stdout",
     "output_type": "stream",
     "text": [
      "LinearRegression()\n"
     ]
    }
   ],
   "source": [
    "# Model Fitting\n",
    "model=LinearRegression()\n",
    "lin_reg = model.fit(X_train,Y_train)\n",
    "print(lin_reg)"
   ]
  },
  {
   "cell_type": "code",
   "execution_count": 35,
   "id": "4e48350e",
   "metadata": {},
   "outputs": [
    {
     "name": "stdout",
     "output_type": "stream",
     "text": [
      "RMSE TrainingData =  4.859796975963678\n",
      "RMSE TestData =  4.91550976020729\n"
     ]
    }
   ],
   "source": [
    "# evaluating its performance on the testing data\n",
    "train_pred = lin_reg.predict(X_train)\n",
    "test_pred = lin_reg.predict(X_test)\n",
    "RMSE_train=(np.sqrt(metrics.mean_squared_error(Y_train,train_pred)))\n",
    "RMSE_test=(np.sqrt(metrics.mean_squared_error(Y_test,test_pred)))\n",
    "print(\"RMSE TrainingData = \",RMSE_train)\n",
    "print(\"RMSE TestData = \",RMSE_test)"
   ]
  },
  {
   "cell_type": "code",
   "execution_count": 36,
   "id": "a496f815",
   "metadata": {},
   "outputs": [
    {
     "name": "stdout",
     "output_type": "stream",
     "text": [
      "Accuracy : 0.882\n",
      "Accuracy percentage :  88.18%\n"
     ]
    }
   ],
   "source": [
    "score = lin_reg.score(X_test, Y_test)\n",
    "lr_score = np.mean(score)\n",
    "print('Accuracy : %.3f' % (lr_score))\n",
    "print('Accuracy percentage : ' + \" {:.2f}%\".format(np.mean(score) * 100))"
   ]
  },
  {
   "cell_type": "code",
   "execution_count": 37,
   "id": "d119f7fd",
   "metadata": {},
   "outputs": [
    {
     "name": "stdout",
     "output_type": "stream",
     "text": [
      "The predicted value of Air Quality Index is [39.2496213]\n",
      "Hence the quality of air is GOOD\n"
     ]
    },
    {
     "name": "stderr",
     "output_type": "stream",
     "text": [
      "C:\\Users\\dell\\anaconda3\\lib\\site-packages\\sklearn\\base.py:450: UserWarning: X does not have valid feature names, but LinearRegression was fitted with feature names\n",
      "  warnings.warn(\n"
     ]
    }
   ],
   "source": [
    "# predicting based on new data values\n",
    "new_data1 = np.array([[19.16573, 18.79371, 0.634794]])\n",
    "predicted = lin_reg.predict(new_data1)\n",
    "print(\"The predicted value of Air Quality Index is\", predicted)\n",
    "print(\"Hence the quality of air is\", AQI_Range(predicted))"
   ]
  },
  {
   "cell_type": "markdown",
   "id": "8533e602",
   "metadata": {},
   "source": [
    "### Decision Tree Regressor"
   ]
  },
  {
   "cell_type": "code",
   "execution_count": 38,
   "id": "a913a714",
   "metadata": {},
   "outputs": [
    {
     "data": {
      "text/plain": [
       "DecisionTreeRegressor()"
      ]
     },
     "execution_count": 38,
     "metadata": {},
     "output_type": "execute_result"
    }
   ],
   "source": [
    "DT=DecisionTreeRegressor()\n",
    "DT.fit(X_train,Y_train)"
   ]
  },
  {
   "cell_type": "code",
   "execution_count": 39,
   "id": "6c562257",
   "metadata": {},
   "outputs": [],
   "source": [
    "train_preds=DT.predict(X_train)\n",
    "test_preds=DT.predict(X_test)"
   ]
  },
  {
   "cell_type": "code",
   "execution_count": 40,
   "id": "1baad4cc",
   "metadata": {},
   "outputs": [
    {
     "name": "stdout",
     "output_type": "stream",
     "text": [
      "RMSE TrainingData =  1.839948221624394e-12\n",
      "RMSE TestData =  0.5593304213674667\n",
      "--------------------------------------------------\n",
      "RSquared value on train: 1.0\n",
      "RSquared value on test: 0.9984696508615276\n"
     ]
    }
   ],
   "source": [
    "RMSE_train=(np.sqrt(metrics.mean_squared_error(Y_train,train_preds)))\n",
    "RMSE_test=(np.sqrt(metrics.mean_squared_error(Y_test,test_preds)))\n",
    "print(\"RMSE TrainingData = \",str(RMSE_train))\n",
    "print(\"RMSE TestData = \",str(RMSE_test))\n",
    "print('-'*50)\n",
    "print('RSquared value on train:',DT.score(X_train, Y_train))\n",
    "print('RSquared value on test:',DT.score(X_test, Y_test))"
   ]
  },
  {
   "cell_type": "code",
   "execution_count": 42,
   "id": "af9d004b",
   "metadata": {},
   "outputs": [
    {
     "name": "stdout",
     "output_type": "stream",
     "text": [
      "Accuracy : 0.998\n",
      "Accuracy percentage :  99.85%\n"
     ]
    }
   ],
   "source": [
    "score = DT.score(X_test, Y_test)\n",
    "dt_score = np.mean(score)\n",
    "print('Accuracy : %.3f' % (dt_score))\n",
    "print('Accuracy percentage : ' + \" {:.2f}%\".format(np.mean(score) * 100))"
   ]
  },
  {
   "cell_type": "code",
   "execution_count": 43,
   "id": "b9d2c4bf",
   "metadata": {},
   "outputs": [
    {
     "name": "stdout",
     "output_type": "stream",
     "text": [
      "The predicted value of Air Quality Index is [41.67]\n",
      "Hence the quality of air is GOOD\n"
     ]
    },
    {
     "name": "stderr",
     "output_type": "stream",
     "text": [
      "C:\\Users\\dell\\anaconda3\\lib\\site-packages\\sklearn\\base.py:450: UserWarning: X does not have valid feature names, but DecisionTreeRegressor was fitted with feature names\n",
      "  warnings.warn(\n"
     ]
    }
   ],
   "source": [
    "# predicting based on new data values\n",
    "new_data1 = np.array([[19.16573, 18.79371, 0.634794]])\n",
    "predicted = DT.predict(new_data1)\n",
    "print(\"The predicted value of Air Quality Index is\", predicted)\n",
    "print(\"Hence the quality of air is\", AQI_Range(predicted))"
   ]
  },
  {
   "cell_type": "markdown",
   "id": "f4ff0d93",
   "metadata": {},
   "source": [
    "### Random Forest Regressor"
   ]
  },
  {
   "cell_type": "code",
   "execution_count": 45,
   "id": "3589c2db",
   "metadata": {},
   "outputs": [],
   "source": [
    "RF=RandomForestRegressor().fit(X_train,Y_train)\n",
    "train_preds1=RF.predict(X_train)\n",
    "test_preds1=RF.predict(X_test)"
   ]
  },
  {
   "cell_type": "code",
   "execution_count": 46,
   "id": "072fd133",
   "metadata": {},
   "outputs": [
    {
     "name": "stdout",
     "output_type": "stream",
     "text": [
      "RMSE TrainingData =  0.2543483241991404\n",
      "RMSE TestData =  0.5754733441220292\n",
      "--------------------------------------------------\n",
      "RSquared value on train: 0.9996717909314723\n",
      "RSquared value on test: 0.9983800408406183\n"
     ]
    }
   ],
   "source": [
    "RMSE_train=(np.sqrt(metrics.mean_squared_error(Y_train,train_preds1)))\n",
    "RMSE_test=(np.sqrt(metrics.mean_squared_error(Y_test,test_preds1)))\n",
    "print(\"RMSE TrainingData = \",str(RMSE_train))\n",
    "print(\"RMSE TestData = \",str(RMSE_test))\n",
    "print('-'*50)\n",
    "print('RSquared value on train:',RF.score(X_train, Y_train))\n",
    "print('RSquared value on test:',RF.score(X_test, Y_test))"
   ]
  },
  {
   "cell_type": "code",
   "execution_count": 47,
   "id": "fe790a6e",
   "metadata": {},
   "outputs": [
    {
     "name": "stdout",
     "output_type": "stream",
     "text": [
      "Accuracy : 0.998\n",
      "Accuracy percentage :  99.84%\n"
     ]
    }
   ],
   "source": [
    "score = RF.score(X_test, Y_test)\n",
    "rf_score = np.mean(score)\n",
    "print('Accuracy : %.3f' % (rf_score))\n",
    "print('Accuracy percentage : ' + \" {:.2f}%\".format(np.mean(score) * 100))"
   ]
  },
  {
   "cell_type": "code",
   "execution_count": 48,
   "id": "e802ce57",
   "metadata": {},
   "outputs": [
    {
     "name": "stdout",
     "output_type": "stream",
     "text": [
      "The predicted value of Air Quality Index is [41.67]\n",
      "Hence the quality of air is GOOD\n"
     ]
    },
    {
     "name": "stderr",
     "output_type": "stream",
     "text": [
      "C:\\Users\\dell\\anaconda3\\lib\\site-packages\\sklearn\\base.py:450: UserWarning: X does not have valid feature names, but RandomForestRegressor was fitted with feature names\n",
      "  warnings.warn(\n"
     ]
    }
   ],
   "source": [
    "# predicting based on new data values\n",
    "new_data1 = np.array([[19.16573, 18.79371, 0.634794]])\n",
    "predicted = RF.predict(new_data1)\n",
    "print(\"The predicted value of Air Quality Index is\", predicted)\n",
    "print(\"Hence the quality of air is\", AQI_Range(predicted))"
   ]
  },
  {
   "cell_type": "markdown",
   "id": "17bba9a7",
   "metadata": {},
   "source": [
    "# Classification Algorithms"
   ]
  },
  {
   "cell_type": "code",
   "execution_count": 64,
   "id": "e76f26f2",
   "metadata": {},
   "outputs": [],
   "source": [
    "from sklearn.linear_model import LogisticRegression\n",
    "from sklearn.tree import DecisionTreeClassifier\n",
    "from sklearn.ensemble import RandomForestClassifier\n",
    "from sklearn.neighbors import KNeighborsClassifier\n",
    "from sklearn.metrics import classification_report"
   ]
  },
  {
   "cell_type": "code",
   "execution_count": 51,
   "id": "b3231a58",
   "metadata": {},
   "outputs": [],
   "source": [
    "# Splitting the data into independent and dependent columns for classification \n",
    "X2 = df[['PM2.5','PM10 ','NO2']]\n",
    "Y2 = df['AQI_Range']"
   ]
  },
  {
   "cell_type": "code",
   "execution_count": 52,
   "id": "5f8a519d",
   "metadata": {},
   "outputs": [],
   "source": [
    "X_train2, X_test2, Y_train2, Y_test2 = train_test_split(X2, Y2, test_size=0.33, random_state=70)\n",
    "# Splitting the data into training and testing data "
   ]
  },
  {
   "cell_type": "markdown",
   "id": "2797a45f",
   "metadata": {},
   "source": [
    "### Logistic Regression"
   ]
  },
  {
   "cell_type": "code",
   "execution_count": 53,
   "id": "de7f58fd",
   "metadata": {},
   "outputs": [
    {
     "name": "stdout",
     "output_type": "stream",
     "text": [
      "Model accuracy on train is:  0.9805721704455882\n",
      "Model accuracy on test is:  0.9806099397590361\n",
      "--------------------------------------------------\n"
     ]
    }
   ],
   "source": [
    "#fit the model on train data \n",
    "log_reg = LogisticRegression().fit(X_train2, Y_train2)\n",
    "\n",
    "#predict on train \n",
    "train_preds2 = log_reg.predict(X_train2)\n",
    "\n",
    "#accuracy on train\n",
    "print(\"Model accuracy on train is: \", accuracy_score(Y_train2, train_preds2))\n",
    "\n",
    "#predict on test\n",
    "test_preds2 = log_reg.predict(X_test2)\n",
    "#accuracy on test\n",
    "print(\"Model accuracy on test is: \", accuracy_score(Y_test2, test_preds2))\n",
    "print('-'*50)"
   ]
  },
  {
   "cell_type": "code",
   "execution_count": 66,
   "id": "3c6a2261",
   "metadata": {},
   "outputs": [
    {
     "name": "stdout",
     "output_type": "stream",
     "text": [
      "              precision    recall  f1-score   support\n",
      "\n",
      "        GOOD       0.99      0.99      0.99      9351\n",
      "    MODERATE       0.93      0.90      0.92      1255\n",
      "   UNHEALTHY       0.75      0.83      0.79        18\n",
      "\n",
      "    accuracy                           0.98     10624\n",
      "   macro avg       0.89      0.91      0.90     10624\n",
      "weighted avg       0.98      0.98      0.98     10624\n",
      "\n"
     ]
    }
   ],
   "source": [
    "print(classification_report(Y_test2, test_preds2))"
   ]
  },
  {
   "cell_type": "code",
   "execution_count": 54,
   "id": "76312478",
   "metadata": {},
   "outputs": [
    {
     "name": "stderr",
     "output_type": "stream",
     "text": [
      "C:\\Users\\dell\\anaconda3\\lib\\site-packages\\sklearn\\base.py:450: UserWarning: X does not have valid feature names, but LogisticRegression was fitted with feature names\n",
      "  warnings.warn(\n"
     ]
    },
    {
     "data": {
      "text/plain": [
       "array(['GOOD'], dtype=object)"
      ]
     },
     "execution_count": 54,
     "metadata": {},
     "output_type": "execute_result"
    }
   ],
   "source": [
    "log_reg.predict([[19.16573, 18.79371, 0.634794]]) "
   ]
  },
  {
   "cell_type": "code",
   "execution_count": 55,
   "id": "e5e42111",
   "metadata": {},
   "outputs": [
    {
     "name": "stderr",
     "output_type": "stream",
     "text": [
      "C:\\Users\\dell\\anaconda3\\lib\\site-packages\\sklearn\\base.py:450: UserWarning: X does not have valid feature names, but LogisticRegression was fitted with feature names\n",
      "  warnings.warn(\n"
     ]
    },
    {
     "data": {
      "text/plain": [
       "array(['UNHEALTHY'], dtype=object)"
      ]
     },
     "execution_count": 55,
     "metadata": {},
     "output_type": "execute_result"
    }
   ],
   "source": [
    "log_reg.predict([[119.16573, 187.79371, 94.39]]) "
   ]
  },
  {
   "cell_type": "markdown",
   "id": "4b12673b",
   "metadata": {},
   "source": [
    "### Decision Tree Classifier"
   ]
  },
  {
   "cell_type": "code",
   "execution_count": 56,
   "id": "dda95c47",
   "metadata": {},
   "outputs": [
    {
     "name": "stdout",
     "output_type": "stream",
     "text": [
      "Model accuracy on train is:  1.0\n",
      "Model accuracy on test is:  0.9996234939759037\n",
      "--------------------------------------------------\n"
     ]
    }
   ],
   "source": [
    "#fit the model on train data \n",
    "DT2 = DecisionTreeClassifier().fit(X_train2,Y_train2)\n",
    "\n",
    "#predict on train \n",
    "train_preds3 = DT2.predict(X_train2)\n",
    "#accuracy on train\n",
    "print(\"Model accuracy on train is: \", accuracy_score(Y_train2, train_preds3))\n",
    "\n",
    "#predict on test\n",
    "test_preds3 = DT2.predict(X_test2)\n",
    "#accuracy on test\n",
    "print(\"Model accuracy on test is: \", accuracy_score(Y_test2, test_preds3))\n",
    "print('-'*50)"
   ]
  },
  {
   "cell_type": "code",
   "execution_count": 67,
   "id": "e37b99eb",
   "metadata": {},
   "outputs": [
    {
     "name": "stdout",
     "output_type": "stream",
     "text": [
      "              precision    recall  f1-score   support\n",
      "\n",
      "        GOOD       1.00      1.00      1.00      9351\n",
      "    MODERATE       1.00      1.00      1.00      1255\n",
      "   UNHEALTHY       0.90      1.00      0.95        18\n",
      "\n",
      "    accuracy                           1.00     10624\n",
      "   macro avg       0.97      1.00      0.98     10624\n",
      "weighted avg       1.00      1.00      1.00     10624\n",
      "\n"
     ]
    }
   ],
   "source": [
    "print(classification_report(Y_test2, test_preds3))"
   ]
  },
  {
   "cell_type": "code",
   "execution_count": 57,
   "id": "5f8ef12f",
   "metadata": {},
   "outputs": [
    {
     "name": "stderr",
     "output_type": "stream",
     "text": [
      "C:\\Users\\dell\\anaconda3\\lib\\site-packages\\sklearn\\base.py:450: UserWarning: X does not have valid feature names, but DecisionTreeClassifier was fitted with feature names\n",
      "  warnings.warn(\n"
     ]
    },
    {
     "data": {
      "text/plain": [
       "array(['GOOD'], dtype=object)"
      ]
     },
     "execution_count": 57,
     "metadata": {},
     "output_type": "execute_result"
    }
   ],
   "source": [
    "DT2.predict([[19.16573, 18.79371, 0.634794]]) "
   ]
  },
  {
   "cell_type": "code",
   "execution_count": 58,
   "id": "c98783b9",
   "metadata": {},
   "outputs": [
    {
     "name": "stderr",
     "output_type": "stream",
     "text": [
      "C:\\Users\\dell\\anaconda3\\lib\\site-packages\\sklearn\\base.py:450: UserWarning: X does not have valid feature names, but DecisionTreeClassifier was fitted with feature names\n",
      "  warnings.warn(\n"
     ]
    },
    {
     "data": {
      "text/plain": [
       "array(['UNHEALTHY'], dtype=object)"
      ]
     },
     "execution_count": 58,
     "metadata": {},
     "output_type": "execute_result"
    }
   ],
   "source": [
    "DT2.predict([[119.16573, 187.79371, 94.39]]) "
   ]
  },
  {
   "cell_type": "markdown",
   "id": "05683560",
   "metadata": {},
   "source": [
    "### K-Nearest Neighbours"
   ]
  },
  {
   "cell_type": "code",
   "execution_count": 59,
   "id": "db22e880",
   "metadata": {},
   "outputs": [
    {
     "name": "stdout",
     "output_type": "stream",
     "text": [
      "Model accuracy on train is:  0.998284416005935\n",
      "Model accuracy on test is:  0.997082078313253\n",
      "--------------------------------------------------\n"
     ]
    }
   ],
   "source": [
    "#fit the model on train data \n",
    "KNN = KNeighborsClassifier().fit(X_train2,Y_train2)\n",
    "\n",
    "#predict on train \n",
    "train_preds5 = KNN.predict(X_train2)\n",
    "#accuracy on train\n",
    "print(\"Model accuracy on train is: \", accuracy_score(Y_train2, train_preds5))\n",
    "\n",
    "#predict on test\n",
    "test_preds5 = KNN.predict(X_test2)\n",
    "#accuracy on test\n",
    "print(\"Model accuracy on test is: \", accuracy_score(Y_test2, test_preds5))\n",
    "print('-'*50)"
   ]
  },
  {
   "cell_type": "code",
   "execution_count": 68,
   "id": "adc7ef29",
   "metadata": {},
   "outputs": [
    {
     "name": "stdout",
     "output_type": "stream",
     "text": [
      "              precision    recall  f1-score   support\n",
      "\n",
      "        GOOD       1.00      1.00      1.00      9351\n",
      "    MODERATE       0.99      0.98      0.99      1255\n",
      "   UNHEALTHY       0.90      1.00      0.95        18\n",
      "\n",
      "    accuracy                           1.00     10624\n",
      "   macro avg       0.96      0.99      0.98     10624\n",
      "weighted avg       1.00      1.00      1.00     10624\n",
      "\n"
     ]
    }
   ],
   "source": [
    "print(classification_report(Y_test2, test_preds5))"
   ]
  },
  {
   "cell_type": "code",
   "execution_count": 60,
   "id": "4eec6a1d",
   "metadata": {},
   "outputs": [
    {
     "name": "stderr",
     "output_type": "stream",
     "text": [
      "C:\\Users\\dell\\anaconda3\\lib\\site-packages\\sklearn\\base.py:450: UserWarning: X does not have valid feature names, but KNeighborsClassifier was fitted with feature names\n",
      "  warnings.warn(\n"
     ]
    },
    {
     "data": {
      "text/plain": [
       "array(['MODERATE'], dtype=object)"
      ]
     },
     "execution_count": 60,
     "metadata": {},
     "output_type": "execute_result"
    }
   ],
   "source": [
    "KNN.predict([[47.7,78.182,100]]) \n"
   ]
  },
  {
   "cell_type": "code",
   "execution_count": 61,
   "id": "67f3de80",
   "metadata": {},
   "outputs": [
    {
     "name": "stderr",
     "output_type": "stream",
     "text": [
      "C:\\Users\\dell\\anaconda3\\lib\\site-packages\\sklearn\\base.py:450: UserWarning: X does not have valid feature names, but KNeighborsClassifier was fitted with feature names\n",
      "  warnings.warn(\n"
     ]
    },
    {
     "data": {
      "text/plain": [
       "array(['UNHEALTHY'], dtype=object)"
      ]
     },
     "execution_count": 61,
     "metadata": {},
     "output_type": "execute_result"
    }
   ],
   "source": [
    "KNN.predict([[178.182,100,196]]) "
   ]
  },
  {
   "cell_type": "markdown",
   "id": "e12d1d46",
   "metadata": {},
   "source": [
    "## Report for regression algorithms\n",
    "##### Linear Regression Accuracy : 0.882\n",
    "##### Decision Tree Regressor Accuracy : 0.998\n",
    "##### Random Forest Regressor Accuracy : 0.998\n",
    "\n",
    "## Report for Classification algorithms\n",
    "##### Logistic Regression Accuracy : 0.98\n",
    "##### Decision Tree Classifier Accuracy : 0.999\n",
    "##### K-Nearest Neighbours Accuracy : 1.00"
   ]
  },
  {
   "cell_type": "code",
   "execution_count": null,
   "id": "f660f2cd",
   "metadata": {},
   "outputs": [],
   "source": []
  }
 ],
 "metadata": {
  "kernelspec": {
   "display_name": "Python 3 (ipykernel)",
   "language": "python",
   "name": "python3"
  },
  "language_info": {
   "codemirror_mode": {
    "name": "ipython",
    "version": 3
   },
   "file_extension": ".py",
   "mimetype": "text/x-python",
   "name": "python",
   "nbconvert_exporter": "python",
   "pygments_lexer": "ipython3",
   "version": "3.9.12"
  }
 },
 "nbformat": 4,
 "nbformat_minor": 5
}
